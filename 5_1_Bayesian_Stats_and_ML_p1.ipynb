{
  "nbformat": 4,
  "nbformat_minor": 0,
  "metadata": {
    "colab": {
      "provenance": [],
      "authorship_tag": "ABX9TyPITllbstZnGObknR2xc3LQ",
      "include_colab_link": true
    },
    "kernelspec": {
      "name": "python3",
      "display_name": "Python 3"
    },
    "language_info": {
      "name": "python"
    }
  },
  "cells": [
    {
      "cell_type": "markdown",
      "metadata": {
        "id": "view-in-github",
        "colab_type": "text"
      },
      "source": [
        "<a href=\"https://colab.research.google.com/github/MJMortensonWarwick/DSML2223/blob/main/5_1_Bayesian_Stats_and_ML_p1.ipynb\" target=\"_parent\"><img src=\"https://colab.research.google.com/assets/colab-badge.svg\" alt=\"Open In Colab\"/></a>"
      ]
    },
    {
      "cell_type": "markdown",
      "source": [
        "# Bayesian Statistics and Machine Learning (part one)\n",
        "This Notebook will introduce Bayesian methods in basic statistical analysis.\n",
        "\n",
        "To begin with we will start with Bayes' Theorem:\n",
        "\n",
        "$P(A|B) = \\frac{P(B|A)P(A)}{P(B)}$\n",
        "\n",
        "\n",
        "Let's breakdown this down:\n",
        "\n",
        "$P(A|B)$ (the posterior): This is the thing we are interested in measuring. The \"|\" means \"conditional on\" so in this case we are asking what the probability is of A given that B is True\n",
        "\n",
        "$P(B|A)$ (the likelihood): Formally again we are computing the probability of B given A being true. This is typically the data we have.\n",
        "\n",
        "$P(A)$ (the prior): This is the probability of A in any circumstances (i.e. without any conditional). In practical terms this would be our belief as to the probability of A before looking at our data.\n",
        "\n",
        "$P(B)$ (the evidence): This is the tricky bit! Essentially the is just a denominator that means that $P(A|B)$ is presented as a probability (bounded between zero and one). Essentially this is all possible outcomes that comprise $P(B)$ to include $P(B|A)P(A)$.\n",
        "\n",
        "So you are probably none the wiser at this point so perhaps it's better to play out a scenario. Let's imagine that we are looking to calculate the probability that someone would pass the DSML module given that they spent 40 hours or more on the PMA ... so in other words:\n",
        "\n",
        "$P(pass|40hrs) = \\frac{P(40hrs|pass)P(pass)}{P(40hrs)}$ \n",
        "\n",
        "We can add in some data:"
      ],
      "metadata": {
        "id": "S3jvmUhU8nm5"
      }
    },
    {
      "cell_type": "code",
      "execution_count": 1,
      "metadata": {
        "colab": {
          "base_uri": "https://localhost:8080/",
          "height": 363
        },
        "id": "ZN_JPdAU8mzP",
        "outputId": "9e0006ed-e3b4-4a09-ee0e-8fccb1f43c76"
      },
      "outputs": [
        {
          "output_type": "execute_result",
          "data": {
            "text/plain": [
              "   id  pass?  40hrs\n",
              "0   1   True   True\n",
              "1   2   True   True\n",
              "2   3  False   True\n",
              "3   4  False  False\n",
              "4   5   True   True\n",
              "5   6   True   True\n",
              "6   7  False  False\n",
              "7   8  False  False\n",
              "8   9  False   True\n",
              "9  10   True  False"
            ],
            "text/html": [
              "\n",
              "  <div id=\"df-9d1f6e50-e54c-4e9d-9403-50f20c5a4dd0\">\n",
              "    <div class=\"colab-df-container\">\n",
              "      <div>\n",
              "<style scoped>\n",
              "    .dataframe tbody tr th:only-of-type {\n",
              "        vertical-align: middle;\n",
              "    }\n",
              "\n",
              "    .dataframe tbody tr th {\n",
              "        vertical-align: top;\n",
              "    }\n",
              "\n",
              "    .dataframe thead th {\n",
              "        text-align: right;\n",
              "    }\n",
              "</style>\n",
              "<table border=\"1\" class=\"dataframe\">\n",
              "  <thead>\n",
              "    <tr style=\"text-align: right;\">\n",
              "      <th></th>\n",
              "      <th>id</th>\n",
              "      <th>pass?</th>\n",
              "      <th>40hrs</th>\n",
              "    </tr>\n",
              "  </thead>\n",
              "  <tbody>\n",
              "    <tr>\n",
              "      <th>0</th>\n",
              "      <td>1</td>\n",
              "      <td>True</td>\n",
              "      <td>True</td>\n",
              "    </tr>\n",
              "    <tr>\n",
              "      <th>1</th>\n",
              "      <td>2</td>\n",
              "      <td>True</td>\n",
              "      <td>True</td>\n",
              "    </tr>\n",
              "    <tr>\n",
              "      <th>2</th>\n",
              "      <td>3</td>\n",
              "      <td>False</td>\n",
              "      <td>True</td>\n",
              "    </tr>\n",
              "    <tr>\n",
              "      <th>3</th>\n",
              "      <td>4</td>\n",
              "      <td>False</td>\n",
              "      <td>False</td>\n",
              "    </tr>\n",
              "    <tr>\n",
              "      <th>4</th>\n",
              "      <td>5</td>\n",
              "      <td>True</td>\n",
              "      <td>True</td>\n",
              "    </tr>\n",
              "    <tr>\n",
              "      <th>5</th>\n",
              "      <td>6</td>\n",
              "      <td>True</td>\n",
              "      <td>True</td>\n",
              "    </tr>\n",
              "    <tr>\n",
              "      <th>6</th>\n",
              "      <td>7</td>\n",
              "      <td>False</td>\n",
              "      <td>False</td>\n",
              "    </tr>\n",
              "    <tr>\n",
              "      <th>7</th>\n",
              "      <td>8</td>\n",
              "      <td>False</td>\n",
              "      <td>False</td>\n",
              "    </tr>\n",
              "    <tr>\n",
              "      <th>8</th>\n",
              "      <td>9</td>\n",
              "      <td>False</td>\n",
              "      <td>True</td>\n",
              "    </tr>\n",
              "    <tr>\n",
              "      <th>9</th>\n",
              "      <td>10</td>\n",
              "      <td>True</td>\n",
              "      <td>False</td>\n",
              "    </tr>\n",
              "  </tbody>\n",
              "</table>\n",
              "</div>\n",
              "      <button class=\"colab-df-convert\" onclick=\"convertToInteractive('df-9d1f6e50-e54c-4e9d-9403-50f20c5a4dd0')\"\n",
              "              title=\"Convert this dataframe to an interactive table.\"\n",
              "              style=\"display:none;\">\n",
              "        \n",
              "  <svg xmlns=\"http://www.w3.org/2000/svg\" height=\"24px\"viewBox=\"0 0 24 24\"\n",
              "       width=\"24px\">\n",
              "    <path d=\"M0 0h24v24H0V0z\" fill=\"none\"/>\n",
              "    <path d=\"M18.56 5.44l.94 2.06.94-2.06 2.06-.94-2.06-.94-.94-2.06-.94 2.06-2.06.94zm-11 1L8.5 8.5l.94-2.06 2.06-.94-2.06-.94L8.5 2.5l-.94 2.06-2.06.94zm10 10l.94 2.06.94-2.06 2.06-.94-2.06-.94-.94-2.06-.94 2.06-2.06.94z\"/><path d=\"M17.41 7.96l-1.37-1.37c-.4-.4-.92-.59-1.43-.59-.52 0-1.04.2-1.43.59L10.3 9.45l-7.72 7.72c-.78.78-.78 2.05 0 2.83L4 21.41c.39.39.9.59 1.41.59.51 0 1.02-.2 1.41-.59l7.78-7.78 2.81-2.81c.8-.78.8-2.07 0-2.86zM5.41 20L4 18.59l7.72-7.72 1.47 1.35L5.41 20z\"/>\n",
              "  </svg>\n",
              "      </button>\n",
              "      \n",
              "  <style>\n",
              "    .colab-df-container {\n",
              "      display:flex;\n",
              "      flex-wrap:wrap;\n",
              "      gap: 12px;\n",
              "    }\n",
              "\n",
              "    .colab-df-convert {\n",
              "      background-color: #E8F0FE;\n",
              "      border: none;\n",
              "      border-radius: 50%;\n",
              "      cursor: pointer;\n",
              "      display: none;\n",
              "      fill: #1967D2;\n",
              "      height: 32px;\n",
              "      padding: 0 0 0 0;\n",
              "      width: 32px;\n",
              "    }\n",
              "\n",
              "    .colab-df-convert:hover {\n",
              "      background-color: #E2EBFA;\n",
              "      box-shadow: 0px 1px 2px rgba(60, 64, 67, 0.3), 0px 1px 3px 1px rgba(60, 64, 67, 0.15);\n",
              "      fill: #174EA6;\n",
              "    }\n",
              "\n",
              "    [theme=dark] .colab-df-convert {\n",
              "      background-color: #3B4455;\n",
              "      fill: #D2E3FC;\n",
              "    }\n",
              "\n",
              "    [theme=dark] .colab-df-convert:hover {\n",
              "      background-color: #434B5C;\n",
              "      box-shadow: 0px 1px 3px 1px rgba(0, 0, 0, 0.15);\n",
              "      filter: drop-shadow(0px 1px 2px rgba(0, 0, 0, 0.3));\n",
              "      fill: #FFFFFF;\n",
              "    }\n",
              "  </style>\n",
              "\n",
              "      <script>\n",
              "        const buttonEl =\n",
              "          document.querySelector('#df-9d1f6e50-e54c-4e9d-9403-50f20c5a4dd0 button.colab-df-convert');\n",
              "        buttonEl.style.display =\n",
              "          google.colab.kernel.accessAllowed ? 'block' : 'none';\n",
              "\n",
              "        async function convertToInteractive(key) {\n",
              "          const element = document.querySelector('#df-9d1f6e50-e54c-4e9d-9403-50f20c5a4dd0');\n",
              "          const dataTable =\n",
              "            await google.colab.kernel.invokeFunction('convertToInteractive',\n",
              "                                                     [key], {});\n",
              "          if (!dataTable) return;\n",
              "\n",
              "          const docLinkHtml = 'Like what you see? Visit the ' +\n",
              "            '<a target=\"_blank\" href=https://colab.research.google.com/notebooks/data_table.ipynb>data table notebook</a>'\n",
              "            + ' to learn more about interactive tables.';\n",
              "          element.innerHTML = '';\n",
              "          dataTable['output_type'] = 'display_data';\n",
              "          await google.colab.output.renderOutput(dataTable, element);\n",
              "          const docLink = document.createElement('div');\n",
              "          docLink.innerHTML = docLinkHtml;\n",
              "          element.appendChild(docLink);\n",
              "        }\n",
              "      </script>\n",
              "    </div>\n",
              "  </div>\n",
              "  "
            ]
          },
          "metadata": {},
          "execution_count": 1
        }
      ],
      "source": [
        "import pandas as pd\n",
        "\n",
        "ids = [1,2,3,4,5,6,7,8,9,10]\n",
        "passQ = [True, True, False, False, True, True, False, False, False, True]\n",
        "fortyHrs = [True, True, True, False, True, True, False, False, True, False]\n",
        "\n",
        "df = pd.DataFrame([ids, passQ, fortyHrs]).transpose()\n",
        "df.columns=[\"id\", \"pass?\", \"40hrs\"]\n",
        "df"
      ]
    },
    {
      "cell_type": "markdown",
      "source": [
        "From here we can start to calculate some of our values:"
      ],
      "metadata": {
        "id": "4m9dBrc3-jaF"
      }
    },
    {
      "cell_type": "code",
      "source": [
        "# P(A)\n",
        "prior = 5 / 10 # five passes out of 10 students\n",
        "\n",
        "# P(B)\n",
        "evidence = 6 / 10 # six out of 10 students\n",
        "\n",
        "print(f'Prior is {round(prior, 1)}')\n",
        "print(f'Evidence is {round(evidence, 1)}')"
      ],
      "metadata": {
        "colab": {
          "base_uri": "https://localhost:8080/"
        },
        "id": "ckByKMXq-j3z",
        "outputId": "85f61b77-2a5a-41db-bf31-350e0c51a19b"
      },
      "execution_count": 2,
      "outputs": [
        {
          "output_type": "stream",
          "name": "stdout",
          "text": [
            "Prior is 0.5\n",
            "Evidence is 0.6\n"
          ]
        }
      ]
    },
    {
      "cell_type": "markdown",
      "source": [
        "In terms of calculating the likelihood - $P(B|A)$ - we need to consider the number of students for whom 40hrs and pass? are both True, divided by the number of students who pass:"
      ],
      "metadata": {
        "id": "dACS7m4l-no6"
      }
    },
    {
      "cell_type": "code",
      "source": [
        "ba = 0\n",
        "passed = 0\n",
        "\n",
        "# iterrows() allows us to basically for loop through a dataframe\n",
        "for index, row in df.iterrows():\n",
        "    if row['pass?'] == True:\n",
        "        passed += 1\n",
        "        if row['40hrs'] == True:\n",
        "            ba += 1\n",
        "            \n",
        "likelihood = ba / passed \n",
        "print(f'Likelihood is {round(likelihood, 1)}')"
      ],
      "metadata": {
        "colab": {
          "base_uri": "https://localhost:8080/"
        },
        "id": "JipapN7o-uYF",
        "outputId": "5fd3072d-9e8b-4837-fdb1-56d8d09a1fff"
      },
      "execution_count": 3,
      "outputs": [
        {
          "output_type": "stream",
          "name": "stdout",
          "text": [
            "Likelihood is 0.8\n"
          ]
        }
      ]
    },
    {
      "cell_type": "markdown",
      "source": [
        "In other words, if we know that a student passed there is an 80% chance they did 40 hours or more work.\n",
        "\n",
        "Now we can put it all together!"
      ],
      "metadata": {
        "id": "hxaCRSqX-yP_"
      }
    },
    {
      "cell_type": "code",
      "source": [
        "posterior = (likelihood * prior) / evidence \n",
        "print(f'Posterior is {round(posterior, 1)}')"
      ],
      "metadata": {
        "colab": {
          "base_uri": "https://localhost:8080/"
        },
        "id": "FDg9LqqA-1F9",
        "outputId": "2bba94c3-3268-47b2-dfd7-857973029ef8"
      },
      "execution_count": 4,
      "outputs": [
        {
          "output_type": "stream",
          "name": "stdout",
          "text": [
            "Posterior is 0.7\n"
          ]
        }
      ]
    },
    {
      "cell_type": "markdown",
      "source": [
        "Awesome! However, this is a very much a toy example and actually we could have just directly counted the posterior in the same fashion as the likelihood:"
      ],
      "metadata": {
        "id": "soMoeD3j-44r"
      }
    },
    {
      "cell_type": "code",
      "source": [
        "ab = 0\n",
        "fortyHrs = 0\n",
        "\n",
        "# iterrows() allows us to basically for loop through a dataframe\n",
        "for index, row in df.iterrows():\n",
        "    if row['40hrs'] == True:\n",
        "        fortyHrs += 1\n",
        "        if row['pass?'] == True:\n",
        "            ab += 1\n",
        "            \n",
        "posterior = ab / fortyHrs \n",
        "print(f'Posterior is {round(posterior, 1)}')"
      ],
      "metadata": {
        "colab": {
          "base_uri": "https://localhost:8080/"
        },
        "id": "Mi0J6me5-71k",
        "outputId": "3521afb0-783e-4312-9702-9ae23886da9f"
      },
      "execution_count": 5,
      "outputs": [
        {
          "output_type": "stream",
          "name": "stdout",
          "text": [
            "Posterior is 0.7\n"
          ]
        }
      ]
    },
    {
      "cell_type": "markdown",
      "source": [
        "So what's the point? Well once we have the concepts we can start to think about calculating probability in a different way. Gather round for story time and we'll see this in action:"
      ],
      "metadata": {
        "id": "4FgUPyan_AIs"
      }
    },
    {
      "cell_type": "markdown",
      "source": [
        "## The Tale of the Student, the Supervisor, the Statistician and the Bayesian\n",
        "Our tale occurred several years ago here at WMG. A young student, let's call her Liping, had just completed her DSML PMA. She felt she had done quite well and really committed herself, however, in the 4x PMAs prior to this her results had been mixed and she currently averaged a merit. Unfortunately she had been spending a lot of time writing her food blog when she should have been writing, and had been a bit slapdash with her referencing. She was in a real quandary as to whether she would be able to achieve a distinction this time; on the one hand it felt like it had gone well, on the other that wasn't the current pattern. Young Liping sought some advice.\n",
        "\n",
        "First she turned to her dissertation supervisor, lets call him Mark. Mark asked Liping a bunch of questions about the process she had followed and asked her to give a score out of 10 for each. She thought about these questions and gave the following answers:"
      ],
      "metadata": {
        "id": "jSv_Okry_Cm9"
      }
    },
    {
      "cell_type": "code",
      "source": [
        "understood_question = 9 / 10\n",
        "worked_hard = 10 / 10\n",
        "good_references = 9 / 10\n",
        "good_code = 8 / 10\n",
        "\n",
        "improve = (understood_question + worked_hard + good_references + good_code) / 4\n",
        "print(f'Mark said: \"You have a {round(improve,1)} chance of a distinction\"')"
      ],
      "metadata": {
        "colab": {
          "base_uri": "https://localhost:8080/"
        },
        "id": "Q5fWfmT5_HOT",
        "outputId": "f604c0dc-11ef-4c3a-f22b-a7bf5779f441"
      },
      "execution_count": 6,
      "outputs": [
        {
          "output_type": "stream",
          "name": "stdout",
          "text": [
            "Mark said: \"You have a 0.9 chance of a distinction\"\n"
          ]
        }
      ]
    },
    {
      "cell_type": "markdown",
      "source": [
        "Liping left the meeting feeling really good ... an 90% chance of distinction! However, she had this nagging doubt. Her record so far wasn't distinction level and as a good data person she didn't feel comfortable just ignoring the data. To try and assuage her doubts she went to see a friendly, local (traditional) statistician. Let's call him Vagelis.\n",
        "\n",
        "After Liping explained her problem, Vagelis did some research into past performance on the DSML module. After a bit of searching, Vagelis found the following datapoints:"
      ],
      "metadata": {
        "id": "ipDDxyVW_LNS"
      }
    },
    {
      "cell_type": "code",
      "source": [
        "students = 100\n",
        "distinctions = 18\n",
        "increased = 25\n",
        "increased2dist = 2\n",
        "\n",
        "print(f'Vagelis said \"There were {students} students and {distinctions} distinctions.\\n{increased} students improved to a new boundary, {increased2dist} of which improved to a distinction\"')"
      ],
      "metadata": {
        "colab": {
          "base_uri": "https://localhost:8080/"
        },
        "id": "4wgfjPEU_OYk",
        "outputId": "f415e9b9-a3b6-49bc-87c2-d39dd8826d5d"
      },
      "execution_count": 7,
      "outputs": [
        {
          "output_type": "stream",
          "name": "stdout",
          "text": [
            "Vagelis said \"There were 100 students and 18 distinctions.\n",
            "25 students improved to a new boundary, 2 of which improved to a distinction\"\n"
          ]
        }
      ]
    },
    {
      "cell_type": "markdown",
      "source": [
        "Vagelis got out his pocket calculator and quickly asserted the following:"
      ],
      "metadata": {
        "id": "zUoF6rXP_ctK"
      }
    },
    {
      "cell_type": "code",
      "source": [
        "print(f'The probability of you getting a distinction is {round(increased2dist / students, 2)}')"
      ],
      "metadata": {
        "colab": {
          "base_uri": "https://localhost:8080/"
        },
        "id": "lIyoIfRL_fdM",
        "outputId": "84c0895e-5aea-4609-e7f6-ce08d32ad94b"
      },
      "execution_count": 8,
      "outputs": [
        {
          "output_type": "stream",
          "name": "stdout",
          "text": [
            "The probability of you getting a distinction is 0.02\n"
          ]
        }
      ]
    },
    {
      "cell_type": "markdown",
      "source": [
        "Now Liping felt sad. But as much as she trusted Vagelis and his trusty pocket calculator she also felt that she was more than just her history and this PMA definitely felt different. More confused than ever she sought the advice of one more person ... a Bayesian statistician (let's call him Michael).\n",
        "\n",
        "Michael asked her what his colleagues had told her, and Liping shared their advice. Michael thanked her and quickly wrote up a Python program to answer her question. To help illustrate our story the original program he wrote is reproduced below:"
      ],
      "metadata": {
        "id": "iIfEfX5__jiT"
      }
    },
    {
      "cell_type": "code",
      "source": [
        "# Liping's PMA predictor. Author Michael Mortenson, 10/02/2018\n",
        "prior = improve\n",
        "likelihood = increased2dist / distinctions\n",
        "\n",
        "# probability of improvement in all cases\n",
        "evidence = likelihood + (increased - increased2dist) / (students - distinctions) * (1 - prior) \n",
        "\n",
        "\n",
        "posterior = (likelihood * prior) / evidence \n",
        "print(f'The probability you will get a distinction is {round(posterior, 2)}')"
      ],
      "metadata": {
        "colab": {
          "base_uri": "https://localhost:8080/"
        },
        "id": "tvV7yFUh_mDX",
        "outputId": "7e78afb0-aa35-4112-a2c2-0f63a4955345"
      },
      "execution_count": 9,
      "outputs": [
        {
          "output_type": "stream",
          "name": "stdout",
          "text": [
            "The probability you will get a distinction is 0.72\n"
          ]
        }
      ]
    },
    {
      "cell_type": "markdown",
      "source": [
        "Liping was happy. She recognised that the Bayesian way allowed her to combine her personal expectations with the data (previous performances on the module) and give her a balance between them. And, dear reader, we do get a happy ending because she did indeed pass her PMA and the rest is history!"
      ],
      "metadata": {
        "id": "FfeFlJge_3Uf"
      }
    },
    {
      "cell_type": "markdown",
      "source": [
        "## Statistical Note\n",
        "Ultimately the problem Michael wanted to solve was:\n",
        "\n",
        "$P(distinction|improvement) = \\frac{P(improvement|distinction)P(distinction)}{P(improvement)}$\n",
        "\n",
        "This feels a little less intuitive than our earlier example so let's discuss it a bit more. When we think about the numerator then it is essentially, as the story tells us, a balance between the data (2 students achieved distinction having a lower average before out of 18 total distinctions) and her feeling about how this PMA process had gone (a 90% chance). That we define this as $P(improvement|distinction)$ is to say that given the goal is distinction, how many students who achieve the distinction are ones for whom it is an improvement.\n",
        "\n",
        "The denominator also has something a bit different. As we know, \n",
        " represents the probability of an improvement under all circumstances. That will include our numerator - $P(improvement|distinction)P(distinction)$ - but also the likelihood a student would improve if it wasn't a distinction (e.g. if a student improved from fail to pass or pass to merit). Consequently that is all improvements less those who improved to distinctions, out of all results less those that achieved distinction. We would represent this as follows: $P(B|A')P(A')$ or, $P(improvement|not\\_distinction)P(not\\_distinction)$. In this case we represent $P(not\\_distinction)$ as $1-P(A)$.\n",
        "\n",
        "##The Moral of the Story\n",
        "This  gives us one of the main advantages of a Bayesian approach over the alternative, traditional approach ... typically called \"frequentist\" by Bayesians as it is based on assigning probabilities purely on the frequency of events. In the Bayesian calculation we can include some prior belief about the likelihood of an event which is combined with the frequencies in the data.\n",
        "\n",
        "Given that we know all datasets are incomplete and that all datasets contain error, we can see why not solely relying on our historical data can be an attractive thing. Secondly, as William Bruce Cameron said:\n",
        "\n",
        "> Not everything that can be counted counts, and not everything that counts can be counted.\n",
        "\n",
        "Very often there is good insight that is only available as \"soft data\" rather \"hard\". That is, the data doesn't come to us from a database or Excel spreadsheet but from the \"beliefs\" of subject matter experts.\n",
        "\n",
        "However, Bayesian analyses can offer much more than this, as well see in part two where we look at the application of these methods to distributions of data rather than single values."
      ],
      "metadata": {
        "id": "VSV6vw-p_3vJ"
      }
    }
  ]
}