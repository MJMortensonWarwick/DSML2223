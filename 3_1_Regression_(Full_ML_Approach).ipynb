{
  "nbformat": 4,
  "nbformat_minor": 0,
  "metadata": {
    "colab": {
      "provenance": [],
      "authorship_tag": "ABX9TyOe9tcLvBklo1scWD41kpMS",
      "include_colab_link": true
    },
    "kernelspec": {
      "name": "python3",
      "display_name": "Python 3"
    },
    "language_info": {
      "name": "python"
    }
  },
  "cells": [
    {
      "cell_type": "markdown",
      "metadata": {
        "id": "view-in-github",
        "colab_type": "text"
      },
      "source": [
        "<a href=\"https://colab.research.google.com/github/MJMortensonWarwick/DSML2223/blob/main/3_1_Regression_(Full_ML_Approach).ipynb\" target=\"_parent\"><img src=\"https://colab.research.google.com/assets/colab-badge.svg\" alt=\"Open In Colab\"/></a>"
      ]
    },
    {
      "cell_type": "markdown",
      "source": [
        "# Linear Regression - a Full ML Approach\n",
        "\n",
        "Here we will run the same linear regressions (with and without regularisation) from the first day of the module, but as a full ML project. We start with the importing:"
      ],
      "metadata": {
        "id": "SQaQTTM8HkIC"
      }
    },
    {
      "cell_type": "code",
      "execution_count": 21,
      "metadata": {
        "id": "TsZu7TTCHVTF"
      },
      "outputs": [],
      "source": [
        "import numpy as np\n",
        "import matplotlib.pyplot as plt \n",
        "import pandas as pd  \n",
        "import seaborn as sns \n",
        "\n",
        "# Only works on Jupyter/Anaconda\n",
        "%matplotlib inline  \n",
        "\n",
        "from sklearn.linear_model import LinearRegression\n",
        "from sklearn.metrics import mean_squared_error, r2_score"
      ]
    },
    {
      "cell_type": "markdown",
      "source": [
        "### STEP ONE: Read the data\n",
        "We will also use one of the inbuilt datasets included with _scikit\\-learn_:"
      ],
      "metadata": {
        "id": "iRyyQotGIHTE"
      }
    },
    {
      "cell_type": "code",
      "source": [
        "# import a standard dataset - the Boston house price index\n",
        "from sklearn.datasets import load_boston\n",
        "boston_dataset = load_boston()"
      ],
      "metadata": {
        "colab": {
          "base_uri": "https://localhost:8080/"
        },
        "id": "JPefRRmqIKfa",
        "outputId": "c84f5866-6fd3-410f-cd85-4cd2e6ff8fad"
      },
      "execution_count": 22,
      "outputs": [
        {
          "output_type": "stream",
          "name": "stderr",
          "text": [
            "/usr/local/lib/python3.8/dist-packages/sklearn/utils/deprecation.py:87: FutureWarning: Function load_boston is deprecated; `load_boston` is deprecated in 1.0 and will be removed in 1.2.\n",
            "\n",
            "    The Boston housing prices dataset has an ethical problem. You can refer to\n",
            "    the documentation of this function for further details.\n",
            "\n",
            "    The scikit-learn maintainers therefore strongly discourage the use of this\n",
            "    dataset unless the purpose of the code is to study and educate about\n",
            "    ethical issues in data science and machine learning.\n",
            "\n",
            "    In this special case, you can fetch the dataset from the original\n",
            "    source::\n",
            "\n",
            "        import pandas as pd\n",
            "        import numpy as np\n",
            "\n",
            "\n",
            "        data_url = \"http://lib.stat.cmu.edu/datasets/boston\"\n",
            "        raw_df = pd.read_csv(data_url, sep=\"\\s+\", skiprows=22, header=None)\n",
            "        data = np.hstack([raw_df.values[::2, :], raw_df.values[1::2, :2]])\n",
            "        target = raw_df.values[1::2, 2]\n",
            "\n",
            "    Alternative datasets include the California housing dataset (i.e.\n",
            "    :func:`~sklearn.datasets.fetch_california_housing`) and the Ames housing\n",
            "    dataset. You can load the datasets as follows::\n",
            "\n",
            "        from sklearn.datasets import fetch_california_housing\n",
            "        housing = fetch_california_housing()\n",
            "\n",
            "    for the California housing dataset and::\n",
            "\n",
            "        from sklearn.datasets import fetch_openml\n",
            "        housing = fetch_openml(name=\"house_prices\", as_frame=True)\n",
            "\n",
            "    for the Ames housing dataset.\n",
            "    \n",
            "  warnings.warn(msg, category=FutureWarning)\n"
          ]
        }
      ]
    },
    {
      "cell_type": "markdown",
      "source": [
        "As the comment says, this is a well known dataset ... indeed Andrew Ng's first dataset in his first lecture of the first mainstream MOOC in machine learning. Let's look at it:"
      ],
      "metadata": {
        "id": "3qWvUfZNIOJj"
      }
    },
    {
      "cell_type": "code",
      "source": [
        "# show the dataset\n",
        "print(boston_dataset)\n",
        "\n",
        "# print a return space\n",
        "print('\\n')\n",
        "\n",
        "# show the keys\n",
        "print(boston_dataset.keys())"
      ],
      "metadata": {
        "colab": {
          "base_uri": "https://localhost:8080/"
        },
        "id": "4WzUax3AISeU",
        "outputId": "e31f3d4d-16ad-431f-fc7e-e4208e06c6ea"
      },
      "execution_count": 23,
      "outputs": [
        {
          "output_type": "stream",
          "name": "stdout",
          "text": [
            "{'data': array([[6.3200e-03, 1.8000e+01, 2.3100e+00, ..., 1.5300e+01, 3.9690e+02,\n",
            "        4.9800e+00],\n",
            "       [2.7310e-02, 0.0000e+00, 7.0700e+00, ..., 1.7800e+01, 3.9690e+02,\n",
            "        9.1400e+00],\n",
            "       [2.7290e-02, 0.0000e+00, 7.0700e+00, ..., 1.7800e+01, 3.9283e+02,\n",
            "        4.0300e+00],\n",
            "       ...,\n",
            "       [6.0760e-02, 0.0000e+00, 1.1930e+01, ..., 2.1000e+01, 3.9690e+02,\n",
            "        5.6400e+00],\n",
            "       [1.0959e-01, 0.0000e+00, 1.1930e+01, ..., 2.1000e+01, 3.9345e+02,\n",
            "        6.4800e+00],\n",
            "       [4.7410e-02, 0.0000e+00, 1.1930e+01, ..., 2.1000e+01, 3.9690e+02,\n",
            "        7.8800e+00]]), 'target': array([24. , 21.6, 34.7, 33.4, 36.2, 28.7, 22.9, 27.1, 16.5, 18.9, 15. ,\n",
            "       18.9, 21.7, 20.4, 18.2, 19.9, 23.1, 17.5, 20.2, 18.2, 13.6, 19.6,\n",
            "       15.2, 14.5, 15.6, 13.9, 16.6, 14.8, 18.4, 21. , 12.7, 14.5, 13.2,\n",
            "       13.1, 13.5, 18.9, 20. , 21. , 24.7, 30.8, 34.9, 26.6, 25.3, 24.7,\n",
            "       21.2, 19.3, 20. , 16.6, 14.4, 19.4, 19.7, 20.5, 25. , 23.4, 18.9,\n",
            "       35.4, 24.7, 31.6, 23.3, 19.6, 18.7, 16. , 22.2, 25. , 33. , 23.5,\n",
            "       19.4, 22. , 17.4, 20.9, 24.2, 21.7, 22.8, 23.4, 24.1, 21.4, 20. ,\n",
            "       20.8, 21.2, 20.3, 28. , 23.9, 24.8, 22.9, 23.9, 26.6, 22.5, 22.2,\n",
            "       23.6, 28.7, 22.6, 22. , 22.9, 25. , 20.6, 28.4, 21.4, 38.7, 43.8,\n",
            "       33.2, 27.5, 26.5, 18.6, 19.3, 20.1, 19.5, 19.5, 20.4, 19.8, 19.4,\n",
            "       21.7, 22.8, 18.8, 18.7, 18.5, 18.3, 21.2, 19.2, 20.4, 19.3, 22. ,\n",
            "       20.3, 20.5, 17.3, 18.8, 21.4, 15.7, 16.2, 18. , 14.3, 19.2, 19.6,\n",
            "       23. , 18.4, 15.6, 18.1, 17.4, 17.1, 13.3, 17.8, 14. , 14.4, 13.4,\n",
            "       15.6, 11.8, 13.8, 15.6, 14.6, 17.8, 15.4, 21.5, 19.6, 15.3, 19.4,\n",
            "       17. , 15.6, 13.1, 41.3, 24.3, 23.3, 27. , 50. , 50. , 50. , 22.7,\n",
            "       25. , 50. , 23.8, 23.8, 22.3, 17.4, 19.1, 23.1, 23.6, 22.6, 29.4,\n",
            "       23.2, 24.6, 29.9, 37.2, 39.8, 36.2, 37.9, 32.5, 26.4, 29.6, 50. ,\n",
            "       32. , 29.8, 34.9, 37. , 30.5, 36.4, 31.1, 29.1, 50. , 33.3, 30.3,\n",
            "       34.6, 34.9, 32.9, 24.1, 42.3, 48.5, 50. , 22.6, 24.4, 22.5, 24.4,\n",
            "       20. , 21.7, 19.3, 22.4, 28.1, 23.7, 25. , 23.3, 28.7, 21.5, 23. ,\n",
            "       26.7, 21.7, 27.5, 30.1, 44.8, 50. , 37.6, 31.6, 46.7, 31.5, 24.3,\n",
            "       31.7, 41.7, 48.3, 29. , 24. , 25.1, 31.5, 23.7, 23.3, 22. , 20.1,\n",
            "       22.2, 23.7, 17.6, 18.5, 24.3, 20.5, 24.5, 26.2, 24.4, 24.8, 29.6,\n",
            "       42.8, 21.9, 20.9, 44. , 50. , 36. , 30.1, 33.8, 43.1, 48.8, 31. ,\n",
            "       36.5, 22.8, 30.7, 50. , 43.5, 20.7, 21.1, 25.2, 24.4, 35.2, 32.4,\n",
            "       32. , 33.2, 33.1, 29.1, 35.1, 45.4, 35.4, 46. , 50. , 32.2, 22. ,\n",
            "       20.1, 23.2, 22.3, 24.8, 28.5, 37.3, 27.9, 23.9, 21.7, 28.6, 27.1,\n",
            "       20.3, 22.5, 29. , 24.8, 22. , 26.4, 33.1, 36.1, 28.4, 33.4, 28.2,\n",
            "       22.8, 20.3, 16.1, 22.1, 19.4, 21.6, 23.8, 16.2, 17.8, 19.8, 23.1,\n",
            "       21. , 23.8, 23.1, 20.4, 18.5, 25. , 24.6, 23. , 22.2, 19.3, 22.6,\n",
            "       19.8, 17.1, 19.4, 22.2, 20.7, 21.1, 19.5, 18.5, 20.6, 19. , 18.7,\n",
            "       32.7, 16.5, 23.9, 31.2, 17.5, 17.2, 23.1, 24.5, 26.6, 22.9, 24.1,\n",
            "       18.6, 30.1, 18.2, 20.6, 17.8, 21.7, 22.7, 22.6, 25. , 19.9, 20.8,\n",
            "       16.8, 21.9, 27.5, 21.9, 23.1, 50. , 50. , 50. , 50. , 50. , 13.8,\n",
            "       13.8, 15. , 13.9, 13.3, 13.1, 10.2, 10.4, 10.9, 11.3, 12.3,  8.8,\n",
            "        7.2, 10.5,  7.4, 10.2, 11.5, 15.1, 23.2,  9.7, 13.8, 12.7, 13.1,\n",
            "       12.5,  8.5,  5. ,  6.3,  5.6,  7.2, 12.1,  8.3,  8.5,  5. , 11.9,\n",
            "       27.9, 17.2, 27.5, 15. , 17.2, 17.9, 16.3,  7. ,  7.2,  7.5, 10.4,\n",
            "        8.8,  8.4, 16.7, 14.2, 20.8, 13.4, 11.7,  8.3, 10.2, 10.9, 11. ,\n",
            "        9.5, 14.5, 14.1, 16.1, 14.3, 11.7, 13.4,  9.6,  8.7,  8.4, 12.8,\n",
            "       10.5, 17.1, 18.4, 15.4, 10.8, 11.8, 14.9, 12.6, 14.1, 13. , 13.4,\n",
            "       15.2, 16.1, 17.8, 14.9, 14.1, 12.7, 13.5, 14.9, 20. , 16.4, 17.7,\n",
            "       19.5, 20.2, 21.4, 19.9, 19. , 19.1, 19.1, 20.1, 19.9, 19.6, 23.2,\n",
            "       29.8, 13.8, 13.3, 16.7, 12. , 14.6, 21.4, 23. , 23.7, 25. , 21.8,\n",
            "       20.6, 21.2, 19.1, 20.6, 15.2,  7. ,  8.1, 13.6, 20.1, 21.8, 24.5,\n",
            "       23.1, 19.7, 18.3, 21.2, 17.5, 16.8, 22.4, 20.6, 23.9, 22. , 11.9]), 'feature_names': array(['CRIM', 'ZN', 'INDUS', 'CHAS', 'NOX', 'RM', 'AGE', 'DIS', 'RAD',\n",
            "       'TAX', 'PTRATIO', 'B', 'LSTAT'], dtype='<U7'), 'DESCR': \".. _boston_dataset:\\n\\nBoston house prices dataset\\n---------------------------\\n\\n**Data Set Characteristics:**  \\n\\n    :Number of Instances: 506 \\n\\n    :Number of Attributes: 13 numeric/categorical predictive. Median Value (attribute 14) is usually the target.\\n\\n    :Attribute Information (in order):\\n        - CRIM     per capita crime rate by town\\n        - ZN       proportion of residential land zoned for lots over 25,000 sq.ft.\\n        - INDUS    proportion of non-retail business acres per town\\n        - CHAS     Charles River dummy variable (= 1 if tract bounds river; 0 otherwise)\\n        - NOX      nitric oxides concentration (parts per 10 million)\\n        - RM       average number of rooms per dwelling\\n        - AGE      proportion of owner-occupied units built prior to 1940\\n        - DIS      weighted distances to five Boston employment centres\\n        - RAD      index of accessibility to radial highways\\n        - TAX      full-value property-tax rate per $10,000\\n        - PTRATIO  pupil-teacher ratio by town\\n        - B        1000(Bk - 0.63)^2 where Bk is the proportion of black people by town\\n        - LSTAT    % lower status of the population\\n        - MEDV     Median value of owner-occupied homes in $1000's\\n\\n    :Missing Attribute Values: None\\n\\n    :Creator: Harrison, D. and Rubinfeld, D.L.\\n\\nThis is a copy of UCI ML housing dataset.\\nhttps://archive.ics.uci.edu/ml/machine-learning-databases/housing/\\n\\n\\nThis dataset was taken from the StatLib library which is maintained at Carnegie Mellon University.\\n\\nThe Boston house-price data of Harrison, D. and Rubinfeld, D.L. 'Hedonic\\nprices and the demand for clean air', J. Environ. Economics & Management,\\nvol.5, 81-102, 1978.   Used in Belsley, Kuh & Welsch, 'Regression diagnostics\\n...', Wiley, 1980.   N.B. Various transformations are used in the table on\\npages 244-261 of the latter.\\n\\nThe Boston house-price data has been used in many machine learning papers that address regression\\nproblems.   \\n     \\n.. topic:: References\\n\\n   - Belsley, Kuh & Welsch, 'Regression diagnostics: Identifying Influential Data and Sources of Collinearity', Wiley, 1980. 244-261.\\n   - Quinlan,R. (1993). Combining Instance-Based and Model-Based Learning. In Proceedings on the Tenth International Conference of Machine Learning, 236-243, University of Massachusetts, Amherst. Morgan Kaufmann.\\n\", 'filename': 'boston_house_prices.csv', 'data_module': 'sklearn.datasets.data'}\n",
            "\n",
            "\n",
            "dict_keys(['data', 'target', 'feature_names', 'DESCR', 'filename', 'data_module'])\n"
          ]
        }
      ]
    },
    {
      "cell_type": "markdown",
      "source": [
        "As we can see this is actually a dictionary with 'data' (the X's we can use), 'target' (the Y's), 'feature_names' (the names of all of the columns that represent X), 'DESCR' (a description of the data) and 'filename' (I'll let you guess). With this in mind let's add the X's to a DataFrame:"
      ],
      "metadata": {
        "id": "zCjjVtOoIWMH"
      }
    },
    {
      "cell_type": "code",
      "source": [
        "# convert to data frame using Pandas\n",
        "boston = pd.DataFrame(boston_dataset.data, columns=boston_dataset.feature_names)\n",
        "boston.head()"
      ],
      "metadata": {
        "colab": {
          "base_uri": "https://localhost:8080/",
          "height": 206
        },
        "id": "2qL857JTIcAo",
        "outputId": "163bc6e9-ce79-44c6-b953-71ad74e29f7e"
      },
      "execution_count": 24,
      "outputs": [
        {
          "output_type": "execute_result",
          "data": {
            "text/plain": [
              "      CRIM    ZN  INDUS  CHAS    NOX     RM   AGE     DIS  RAD    TAX  \\\n",
              "0  0.00632  18.0   2.31   0.0  0.538  6.575  65.2  4.0900  1.0  296.0   \n",
              "1  0.02731   0.0   7.07   0.0  0.469  6.421  78.9  4.9671  2.0  242.0   \n",
              "2  0.02729   0.0   7.07   0.0  0.469  7.185  61.1  4.9671  2.0  242.0   \n",
              "3  0.03237   0.0   2.18   0.0  0.458  6.998  45.8  6.0622  3.0  222.0   \n",
              "4  0.06905   0.0   2.18   0.0  0.458  7.147  54.2  6.0622  3.0  222.0   \n",
              "\n",
              "   PTRATIO       B  LSTAT  \n",
              "0     15.3  396.90   4.98  \n",
              "1     17.8  396.90   9.14  \n",
              "2     17.8  392.83   4.03  \n",
              "3     18.7  394.63   2.94  \n",
              "4     18.7  396.90   5.33  "
            ],
            "text/html": [
              "\n",
              "  <div id=\"df-f23fdd54-e520-4e6b-9f28-cbbb3c216c20\">\n",
              "    <div class=\"colab-df-container\">\n",
              "      <div>\n",
              "<style scoped>\n",
              "    .dataframe tbody tr th:only-of-type {\n",
              "        vertical-align: middle;\n",
              "    }\n",
              "\n",
              "    .dataframe tbody tr th {\n",
              "        vertical-align: top;\n",
              "    }\n",
              "\n",
              "    .dataframe thead th {\n",
              "        text-align: right;\n",
              "    }\n",
              "</style>\n",
              "<table border=\"1\" class=\"dataframe\">\n",
              "  <thead>\n",
              "    <tr style=\"text-align: right;\">\n",
              "      <th></th>\n",
              "      <th>CRIM</th>\n",
              "      <th>ZN</th>\n",
              "      <th>INDUS</th>\n",
              "      <th>CHAS</th>\n",
              "      <th>NOX</th>\n",
              "      <th>RM</th>\n",
              "      <th>AGE</th>\n",
              "      <th>DIS</th>\n",
              "      <th>RAD</th>\n",
              "      <th>TAX</th>\n",
              "      <th>PTRATIO</th>\n",
              "      <th>B</th>\n",
              "      <th>LSTAT</th>\n",
              "    </tr>\n",
              "  </thead>\n",
              "  <tbody>\n",
              "    <tr>\n",
              "      <th>0</th>\n",
              "      <td>0.00632</td>\n",
              "      <td>18.0</td>\n",
              "      <td>2.31</td>\n",
              "      <td>0.0</td>\n",
              "      <td>0.538</td>\n",
              "      <td>6.575</td>\n",
              "      <td>65.2</td>\n",
              "      <td>4.0900</td>\n",
              "      <td>1.0</td>\n",
              "      <td>296.0</td>\n",
              "      <td>15.3</td>\n",
              "      <td>396.90</td>\n",
              "      <td>4.98</td>\n",
              "    </tr>\n",
              "    <tr>\n",
              "      <th>1</th>\n",
              "      <td>0.02731</td>\n",
              "      <td>0.0</td>\n",
              "      <td>7.07</td>\n",
              "      <td>0.0</td>\n",
              "      <td>0.469</td>\n",
              "      <td>6.421</td>\n",
              "      <td>78.9</td>\n",
              "      <td>4.9671</td>\n",
              "      <td>2.0</td>\n",
              "      <td>242.0</td>\n",
              "      <td>17.8</td>\n",
              "      <td>396.90</td>\n",
              "      <td>9.14</td>\n",
              "    </tr>\n",
              "    <tr>\n",
              "      <th>2</th>\n",
              "      <td>0.02729</td>\n",
              "      <td>0.0</td>\n",
              "      <td>7.07</td>\n",
              "      <td>0.0</td>\n",
              "      <td>0.469</td>\n",
              "      <td>7.185</td>\n",
              "      <td>61.1</td>\n",
              "      <td>4.9671</td>\n",
              "      <td>2.0</td>\n",
              "      <td>242.0</td>\n",
              "      <td>17.8</td>\n",
              "      <td>392.83</td>\n",
              "      <td>4.03</td>\n",
              "    </tr>\n",
              "    <tr>\n",
              "      <th>3</th>\n",
              "      <td>0.03237</td>\n",
              "      <td>0.0</td>\n",
              "      <td>2.18</td>\n",
              "      <td>0.0</td>\n",
              "      <td>0.458</td>\n",
              "      <td>6.998</td>\n",
              "      <td>45.8</td>\n",
              "      <td>6.0622</td>\n",
              "      <td>3.0</td>\n",
              "      <td>222.0</td>\n",
              "      <td>18.7</td>\n",
              "      <td>394.63</td>\n",
              "      <td>2.94</td>\n",
              "    </tr>\n",
              "    <tr>\n",
              "      <th>4</th>\n",
              "      <td>0.06905</td>\n",
              "      <td>0.0</td>\n",
              "      <td>2.18</td>\n",
              "      <td>0.0</td>\n",
              "      <td>0.458</td>\n",
              "      <td>7.147</td>\n",
              "      <td>54.2</td>\n",
              "      <td>6.0622</td>\n",
              "      <td>3.0</td>\n",
              "      <td>222.0</td>\n",
              "      <td>18.7</td>\n",
              "      <td>396.90</td>\n",
              "      <td>5.33</td>\n",
              "    </tr>\n",
              "  </tbody>\n",
              "</table>\n",
              "</div>\n",
              "      <button class=\"colab-df-convert\" onclick=\"convertToInteractive('df-f23fdd54-e520-4e6b-9f28-cbbb3c216c20')\"\n",
              "              title=\"Convert this dataframe to an interactive table.\"\n",
              "              style=\"display:none;\">\n",
              "        \n",
              "  <svg xmlns=\"http://www.w3.org/2000/svg\" height=\"24px\"viewBox=\"0 0 24 24\"\n",
              "       width=\"24px\">\n",
              "    <path d=\"M0 0h24v24H0V0z\" fill=\"none\"/>\n",
              "    <path d=\"M18.56 5.44l.94 2.06.94-2.06 2.06-.94-2.06-.94-.94-2.06-.94 2.06-2.06.94zm-11 1L8.5 8.5l.94-2.06 2.06-.94-2.06-.94L8.5 2.5l-.94 2.06-2.06.94zm10 10l.94 2.06.94-2.06 2.06-.94-2.06-.94-.94-2.06-.94 2.06-2.06.94z\"/><path d=\"M17.41 7.96l-1.37-1.37c-.4-.4-.92-.59-1.43-.59-.52 0-1.04.2-1.43.59L10.3 9.45l-7.72 7.72c-.78.78-.78 2.05 0 2.83L4 21.41c.39.39.9.59 1.41.59.51 0 1.02-.2 1.41-.59l7.78-7.78 2.81-2.81c.8-.78.8-2.07 0-2.86zM5.41 20L4 18.59l7.72-7.72 1.47 1.35L5.41 20z\"/>\n",
              "  </svg>\n",
              "      </button>\n",
              "      \n",
              "  <style>\n",
              "    .colab-df-container {\n",
              "      display:flex;\n",
              "      flex-wrap:wrap;\n",
              "      gap: 12px;\n",
              "    }\n",
              "\n",
              "    .colab-df-convert {\n",
              "      background-color: #E8F0FE;\n",
              "      border: none;\n",
              "      border-radius: 50%;\n",
              "      cursor: pointer;\n",
              "      display: none;\n",
              "      fill: #1967D2;\n",
              "      height: 32px;\n",
              "      padding: 0 0 0 0;\n",
              "      width: 32px;\n",
              "    }\n",
              "\n",
              "    .colab-df-convert:hover {\n",
              "      background-color: #E2EBFA;\n",
              "      box-shadow: 0px 1px 2px rgba(60, 64, 67, 0.3), 0px 1px 3px 1px rgba(60, 64, 67, 0.15);\n",
              "      fill: #174EA6;\n",
              "    }\n",
              "\n",
              "    [theme=dark] .colab-df-convert {\n",
              "      background-color: #3B4455;\n",
              "      fill: #D2E3FC;\n",
              "    }\n",
              "\n",
              "    [theme=dark] .colab-df-convert:hover {\n",
              "      background-color: #434B5C;\n",
              "      box-shadow: 0px 1px 3px 1px rgba(0, 0, 0, 0.15);\n",
              "      filter: drop-shadow(0px 1px 2px rgba(0, 0, 0, 0.3));\n",
              "      fill: #FFFFFF;\n",
              "    }\n",
              "  </style>\n",
              "\n",
              "      <script>\n",
              "        const buttonEl =\n",
              "          document.querySelector('#df-f23fdd54-e520-4e6b-9f28-cbbb3c216c20 button.colab-df-convert');\n",
              "        buttonEl.style.display =\n",
              "          google.colab.kernel.accessAllowed ? 'block' : 'none';\n",
              "\n",
              "        async function convertToInteractive(key) {\n",
              "          const element = document.querySelector('#df-f23fdd54-e520-4e6b-9f28-cbbb3c216c20');\n",
              "          const dataTable =\n",
              "            await google.colab.kernel.invokeFunction('convertToInteractive',\n",
              "                                                     [key], {});\n",
              "          if (!dataTable) return;\n",
              "\n",
              "          const docLinkHtml = 'Like what you see? Visit the ' +\n",
              "            '<a target=\"_blank\" href=https://colab.research.google.com/notebooks/data_table.ipynb>data table notebook</a>'\n",
              "            + ' to learn more about interactive tables.';\n",
              "          element.innerHTML = '';\n",
              "          dataTable['output_type'] = 'display_data';\n",
              "          await google.colab.output.renderOutput(dataTable, element);\n",
              "          const docLink = document.createElement('div');\n",
              "          docLink.innerHTML = docLinkHtml;\n",
              "          element.appendChild(docLink);\n",
              "        }\n",
              "      </script>\n",
              "    </div>\n",
              "  </div>\n",
              "  "
            ]
          },
          "metadata": {},
          "execution_count": 24
        }
      ]
    },
    {
      "cell_type": "markdown",
      "source": [
        "We will also create a variable for the Y value:"
      ],
      "metadata": {
        "id": "nX2xbkuMIjAv"
      }
    },
    {
      "cell_type": "code",
      "source": [
        "# create a separate Y value\n",
        "boston_Y = boston_dataset.target\n",
        "boston_Y"
      ],
      "metadata": {
        "colab": {
          "base_uri": "https://localhost:8080/"
        },
        "id": "R2antsWmIluJ",
        "outputId": "aa9bef61-d590-4cc1-8d38-9bffb1cf0717"
      },
      "execution_count": 25,
      "outputs": [
        {
          "output_type": "execute_result",
          "data": {
            "text/plain": [
              "array([24. , 21.6, 34.7, 33.4, 36.2, 28.7, 22.9, 27.1, 16.5, 18.9, 15. ,\n",
              "       18.9, 21.7, 20.4, 18.2, 19.9, 23.1, 17.5, 20.2, 18.2, 13.6, 19.6,\n",
              "       15.2, 14.5, 15.6, 13.9, 16.6, 14.8, 18.4, 21. , 12.7, 14.5, 13.2,\n",
              "       13.1, 13.5, 18.9, 20. , 21. , 24.7, 30.8, 34.9, 26.6, 25.3, 24.7,\n",
              "       21.2, 19.3, 20. , 16.6, 14.4, 19.4, 19.7, 20.5, 25. , 23.4, 18.9,\n",
              "       35.4, 24.7, 31.6, 23.3, 19.6, 18.7, 16. , 22.2, 25. , 33. , 23.5,\n",
              "       19.4, 22. , 17.4, 20.9, 24.2, 21.7, 22.8, 23.4, 24.1, 21.4, 20. ,\n",
              "       20.8, 21.2, 20.3, 28. , 23.9, 24.8, 22.9, 23.9, 26.6, 22.5, 22.2,\n",
              "       23.6, 28.7, 22.6, 22. , 22.9, 25. , 20.6, 28.4, 21.4, 38.7, 43.8,\n",
              "       33.2, 27.5, 26.5, 18.6, 19.3, 20.1, 19.5, 19.5, 20.4, 19.8, 19.4,\n",
              "       21.7, 22.8, 18.8, 18.7, 18.5, 18.3, 21.2, 19.2, 20.4, 19.3, 22. ,\n",
              "       20.3, 20.5, 17.3, 18.8, 21.4, 15.7, 16.2, 18. , 14.3, 19.2, 19.6,\n",
              "       23. , 18.4, 15.6, 18.1, 17.4, 17.1, 13.3, 17.8, 14. , 14.4, 13.4,\n",
              "       15.6, 11.8, 13.8, 15.6, 14.6, 17.8, 15.4, 21.5, 19.6, 15.3, 19.4,\n",
              "       17. , 15.6, 13.1, 41.3, 24.3, 23.3, 27. , 50. , 50. , 50. , 22.7,\n",
              "       25. , 50. , 23.8, 23.8, 22.3, 17.4, 19.1, 23.1, 23.6, 22.6, 29.4,\n",
              "       23.2, 24.6, 29.9, 37.2, 39.8, 36.2, 37.9, 32.5, 26.4, 29.6, 50. ,\n",
              "       32. , 29.8, 34.9, 37. , 30.5, 36.4, 31.1, 29.1, 50. , 33.3, 30.3,\n",
              "       34.6, 34.9, 32.9, 24.1, 42.3, 48.5, 50. , 22.6, 24.4, 22.5, 24.4,\n",
              "       20. , 21.7, 19.3, 22.4, 28.1, 23.7, 25. , 23.3, 28.7, 21.5, 23. ,\n",
              "       26.7, 21.7, 27.5, 30.1, 44.8, 50. , 37.6, 31.6, 46.7, 31.5, 24.3,\n",
              "       31.7, 41.7, 48.3, 29. , 24. , 25.1, 31.5, 23.7, 23.3, 22. , 20.1,\n",
              "       22.2, 23.7, 17.6, 18.5, 24.3, 20.5, 24.5, 26.2, 24.4, 24.8, 29.6,\n",
              "       42.8, 21.9, 20.9, 44. , 50. , 36. , 30.1, 33.8, 43.1, 48.8, 31. ,\n",
              "       36.5, 22.8, 30.7, 50. , 43.5, 20.7, 21.1, 25.2, 24.4, 35.2, 32.4,\n",
              "       32. , 33.2, 33.1, 29.1, 35.1, 45.4, 35.4, 46. , 50. , 32.2, 22. ,\n",
              "       20.1, 23.2, 22.3, 24.8, 28.5, 37.3, 27.9, 23.9, 21.7, 28.6, 27.1,\n",
              "       20.3, 22.5, 29. , 24.8, 22. , 26.4, 33.1, 36.1, 28.4, 33.4, 28.2,\n",
              "       22.8, 20.3, 16.1, 22.1, 19.4, 21.6, 23.8, 16.2, 17.8, 19.8, 23.1,\n",
              "       21. , 23.8, 23.1, 20.4, 18.5, 25. , 24.6, 23. , 22.2, 19.3, 22.6,\n",
              "       19.8, 17.1, 19.4, 22.2, 20.7, 21.1, 19.5, 18.5, 20.6, 19. , 18.7,\n",
              "       32.7, 16.5, 23.9, 31.2, 17.5, 17.2, 23.1, 24.5, 26.6, 22.9, 24.1,\n",
              "       18.6, 30.1, 18.2, 20.6, 17.8, 21.7, 22.7, 22.6, 25. , 19.9, 20.8,\n",
              "       16.8, 21.9, 27.5, 21.9, 23.1, 50. , 50. , 50. , 50. , 50. , 13.8,\n",
              "       13.8, 15. , 13.9, 13.3, 13.1, 10.2, 10.4, 10.9, 11.3, 12.3,  8.8,\n",
              "        7.2, 10.5,  7.4, 10.2, 11.5, 15.1, 23.2,  9.7, 13.8, 12.7, 13.1,\n",
              "       12.5,  8.5,  5. ,  6.3,  5.6,  7.2, 12.1,  8.3,  8.5,  5. , 11.9,\n",
              "       27.9, 17.2, 27.5, 15. , 17.2, 17.9, 16.3,  7. ,  7.2,  7.5, 10.4,\n",
              "        8.8,  8.4, 16.7, 14.2, 20.8, 13.4, 11.7,  8.3, 10.2, 10.9, 11. ,\n",
              "        9.5, 14.5, 14.1, 16.1, 14.3, 11.7, 13.4,  9.6,  8.7,  8.4, 12.8,\n",
              "       10.5, 17.1, 18.4, 15.4, 10.8, 11.8, 14.9, 12.6, 14.1, 13. , 13.4,\n",
              "       15.2, 16.1, 17.8, 14.9, 14.1, 12.7, 13.5, 14.9, 20. , 16.4, 17.7,\n",
              "       19.5, 20.2, 21.4, 19.9, 19. , 19.1, 19.1, 20.1, 19.9, 19.6, 23.2,\n",
              "       29.8, 13.8, 13.3, 16.7, 12. , 14.6, 21.4, 23. , 23.7, 25. , 21.8,\n",
              "       20.6, 21.2, 19.1, 20.6, 15.2,  7. ,  8.1, 13.6, 20.1, 21.8, 24.5,\n",
              "       23.1, 19.7, 18.3, 21.2, 17.5, 16.8, 22.4, 20.6, 23.9, 22. , 11.9])"
            ]
          },
          "metadata": {},
          "execution_count": 25
        }
      ]
    },
    {
      "cell_type": "markdown",
      "source": [
        "### STEP TWO: Perform data cleaning & transformations\n",
        "Borrowing from another workbook, we can do some basic data cleaning steps/transformations"
      ],
      "metadata": {
        "id": "vKLv-RCpMzFo"
      }
    },
    {
      "cell_type": "code",
      "source": [
        "print(boston.dtypes)"
      ],
      "metadata": {
        "colab": {
          "base_uri": "https://localhost:8080/"
        },
        "id": "yTUvTzO8NN22",
        "outputId": "9186238b-1784-4560-8c5a-79cf781c8436"
      },
      "execution_count": 26,
      "outputs": [
        {
          "output_type": "stream",
          "name": "stdout",
          "text": [
            "CRIM       float64\n",
            "ZN         float64\n",
            "INDUS      float64\n",
            "CHAS       float64\n",
            "NOX        float64\n",
            "RM         float64\n",
            "AGE        float64\n",
            "DIS        float64\n",
            "RAD        float64\n",
            "TAX        float64\n",
            "PTRATIO    float64\n",
            "B          float64\n",
            "LSTAT      float64\n",
            "dtype: object\n"
          ]
        }
      ]
    },
    {
      "cell_type": "code",
      "source": [
        "print(boston_Y.dtype)"
      ],
      "metadata": {
        "colab": {
          "base_uri": "https://localhost:8080/"
        },
        "id": "60iBxucHNveR",
        "outputId": "cd04aeef-e4ce-4a44-ef11-10704119800a"
      },
      "execution_count": 27,
      "outputs": [
        {
          "output_type": "stream",
          "name": "stdout",
          "text": [
            "float64\n"
          ]
        }
      ]
    },
    {
      "cell_type": "markdown",
      "source": [
        "All of our values are \"float64\" - 64-bit real numbers (numbers with decimal points). We are happy with any numerical format which is what this is. \n",
        "\n",
        "From here we can check for missing values:\n",
        "\n",
        "*As a brief note on the second command, boston_Y is not a Pandas DataFrame but a numpy \"ndarray\". By definition an ndarray must all be of the same data type (there is a data type which allows mixed data - records). Becasue of this the command is \"dtype\" here and \"dtypes\" for our features DataFrame.*"
      ],
      "metadata": {
        "id": "q74OjHW5OUVQ"
      }
    },
    {
      "cell_type": "code",
      "source": [
        "print(boston.isnull().sum())"
      ],
      "metadata": {
        "colab": {
          "base_uri": "https://localhost:8080/"
        },
        "id": "u6byhd2PPaou",
        "outputId": "d89546ee-ffff-42ba-abb9-ecf3c49a5be2"
      },
      "execution_count": 28,
      "outputs": [
        {
          "output_type": "stream",
          "name": "stdout",
          "text": [
            "CRIM       0\n",
            "ZN         0\n",
            "INDUS      0\n",
            "CHAS       0\n",
            "NOX        0\n",
            "RM         0\n",
            "AGE        0\n",
            "DIS        0\n",
            "RAD        0\n",
            "TAX        0\n",
            "PTRATIO    0\n",
            "B          0\n",
            "LSTAT      0\n",
            "dtype: int64\n"
          ]
        }
      ]
    },
    {
      "cell_type": "code",
      "source": [
        "print(np.isnan(boston_Y))"
      ],
      "metadata": {
        "colab": {
          "base_uri": "https://localhost:8080/"
        },
        "id": "87V1NkPrPkvh",
        "outputId": "1a7d4e02-2769-4332-c916-aad0d929aedf"
      },
      "execution_count": 29,
      "outputs": [
        {
          "output_type": "stream",
          "name": "stdout",
          "text": [
            "[False False False False False False False False False False False False\n",
            " False False False False False False False False False False False False\n",
            " False False False False False False False False False False False False\n",
            " False False False False False False False False False False False False\n",
            " False False False False False False False False False False False False\n",
            " False False False False False False False False False False False False\n",
            " False False False False False False False False False False False False\n",
            " False False False False False False False False False False False False\n",
            " False False False False False False False False False False False False\n",
            " False False False False False False False False False False False False\n",
            " False False False False False False False False False False False False\n",
            " False False False False False False False False False False False False\n",
            " False False False False False False False False False False False False\n",
            " False False False False False False False False False False False False\n",
            " False False False False False False False False False False False False\n",
            " False False False False False False False False False False False False\n",
            " False False False False False False False False False False False False\n",
            " False False False False False False False False False False False False\n",
            " False False False False False False False False False False False False\n",
            " False False False False False False False False False False False False\n",
            " False False False False False False False False False False False False\n",
            " False False False False False False False False False False False False\n",
            " False False False False False False False False False False False False\n",
            " False False False False False False False False False False False False\n",
            " False False False False False False False False False False False False\n",
            " False False False False False False False False False False False False\n",
            " False False False False False False False False False False False False\n",
            " False False False False False False False False False False False False\n",
            " False False False False False False False False False False False False\n",
            " False False False False False False False False False False False False\n",
            " False False False False False False False False False False False False\n",
            " False False False False False False False False False False False False\n",
            " False False False False False False False False False False False False\n",
            " False False False False False False False False False False False False\n",
            " False False False False False False False False False False False False\n",
            " False False False False False False False False False False False False\n",
            " False False False False False False False False False False False False\n",
            " False False False False False False False False False False False False\n",
            " False False False False False False False False False False False False\n",
            " False False False False False False False False False False False False\n",
            " False False False False False False False False False False False False\n",
            " False False False False False False False False False False False False\n",
            " False False]\n"
          ]
        }
      ]
    },
    {
      "cell_type": "markdown",
      "source": [
        "No missing values! Let's wrap by noramlising the data.\n",
        "\n",
        "_Again, note the slightly different (numpy) code when checking the target values. Further note, we could have just added the target to the DataFrame before doing these steps (easier - less code), but its an opportunity to show you the numpy equivalents._"
      ],
      "metadata": {
        "id": "V_YC980aP4_N"
      }
    },
    {
      "cell_type": "code",
      "source": [
        "from sklearn.preprocessing import RobustScaler\n",
        "\n",
        "scaler = RobustScaler()\n",
        "\n",
        "# get the column names\n",
        "names = boston.columns\n",
        "\n",
        "df = scaler.fit_transform(boston)\n",
        "boston = pd.DataFrame(df, columns=names)\n",
        "boston.head()"
      ],
      "metadata": {
        "colab": {
          "base_uri": "https://localhost:8080/",
          "height": 206
        },
        "id": "B-entt_OQemo",
        "outputId": "0832b69f-01f4-4a46-f7e1-bdf4b0116980"
      },
      "execution_count": 30,
      "outputs": [
        {
          "output_type": "execute_result",
          "data": {
            "text/plain": [
              "       CRIM    ZN     INDUS  CHAS       NOX        RM       AGE       DIS  \\\n",
              "0 -0.069593  1.44 -0.571650   0.0  0.000000  0.496612 -0.250765  0.285777   \n",
              "1 -0.063755  0.00 -0.202943   0.0 -0.394286  0.287940  0.028542  0.569789   \n",
              "2 -0.063760  0.00 -0.202943   0.0 -0.394286  1.323171 -0.334353  0.569789   \n",
              "3 -0.062347  0.00 -0.581720   0.0 -0.457143  1.069783 -0.646279  0.924391   \n",
              "4 -0.052144  0.00 -0.581720   0.0 -0.457143  1.271680 -0.475025  0.924391   \n",
              "\n",
              "    RAD       TAX   PTRATIO         B     LSTAT  \n",
              "0 -0.20 -0.087855 -1.339286  0.261902 -0.637681  \n",
              "1 -0.15 -0.227390 -0.446429  0.261902 -0.221889  \n",
              "2 -0.15 -0.227390 -0.446429  0.066675 -0.732634  \n",
              "3 -0.10 -0.279070 -0.125000  0.153016 -0.841579  \n",
              "4 -0.10 -0.279070 -0.125000  0.261902 -0.602699  "
            ],
            "text/html": [
              "\n",
              "  <div id=\"df-42d9f5e8-4514-42b3-82db-45d9f885aef4\">\n",
              "    <div class=\"colab-df-container\">\n",
              "      <div>\n",
              "<style scoped>\n",
              "    .dataframe tbody tr th:only-of-type {\n",
              "        vertical-align: middle;\n",
              "    }\n",
              "\n",
              "    .dataframe tbody tr th {\n",
              "        vertical-align: top;\n",
              "    }\n",
              "\n",
              "    .dataframe thead th {\n",
              "        text-align: right;\n",
              "    }\n",
              "</style>\n",
              "<table border=\"1\" class=\"dataframe\">\n",
              "  <thead>\n",
              "    <tr style=\"text-align: right;\">\n",
              "      <th></th>\n",
              "      <th>CRIM</th>\n",
              "      <th>ZN</th>\n",
              "      <th>INDUS</th>\n",
              "      <th>CHAS</th>\n",
              "      <th>NOX</th>\n",
              "      <th>RM</th>\n",
              "      <th>AGE</th>\n",
              "      <th>DIS</th>\n",
              "      <th>RAD</th>\n",
              "      <th>TAX</th>\n",
              "      <th>PTRATIO</th>\n",
              "      <th>B</th>\n",
              "      <th>LSTAT</th>\n",
              "    </tr>\n",
              "  </thead>\n",
              "  <tbody>\n",
              "    <tr>\n",
              "      <th>0</th>\n",
              "      <td>-0.069593</td>\n",
              "      <td>1.44</td>\n",
              "      <td>-0.571650</td>\n",
              "      <td>0.0</td>\n",
              "      <td>0.000000</td>\n",
              "      <td>0.496612</td>\n",
              "      <td>-0.250765</td>\n",
              "      <td>0.285777</td>\n",
              "      <td>-0.20</td>\n",
              "      <td>-0.087855</td>\n",
              "      <td>-1.339286</td>\n",
              "      <td>0.261902</td>\n",
              "      <td>-0.637681</td>\n",
              "    </tr>\n",
              "    <tr>\n",
              "      <th>1</th>\n",
              "      <td>-0.063755</td>\n",
              "      <td>0.00</td>\n",
              "      <td>-0.202943</td>\n",
              "      <td>0.0</td>\n",
              "      <td>-0.394286</td>\n",
              "      <td>0.287940</td>\n",
              "      <td>0.028542</td>\n",
              "      <td>0.569789</td>\n",
              "      <td>-0.15</td>\n",
              "      <td>-0.227390</td>\n",
              "      <td>-0.446429</td>\n",
              "      <td>0.261902</td>\n",
              "      <td>-0.221889</td>\n",
              "    </tr>\n",
              "    <tr>\n",
              "      <th>2</th>\n",
              "      <td>-0.063760</td>\n",
              "      <td>0.00</td>\n",
              "      <td>-0.202943</td>\n",
              "      <td>0.0</td>\n",
              "      <td>-0.394286</td>\n",
              "      <td>1.323171</td>\n",
              "      <td>-0.334353</td>\n",
              "      <td>0.569789</td>\n",
              "      <td>-0.15</td>\n",
              "      <td>-0.227390</td>\n",
              "      <td>-0.446429</td>\n",
              "      <td>0.066675</td>\n",
              "      <td>-0.732634</td>\n",
              "    </tr>\n",
              "    <tr>\n",
              "      <th>3</th>\n",
              "      <td>-0.062347</td>\n",
              "      <td>0.00</td>\n",
              "      <td>-0.581720</td>\n",
              "      <td>0.0</td>\n",
              "      <td>-0.457143</td>\n",
              "      <td>1.069783</td>\n",
              "      <td>-0.646279</td>\n",
              "      <td>0.924391</td>\n",
              "      <td>-0.10</td>\n",
              "      <td>-0.279070</td>\n",
              "      <td>-0.125000</td>\n",
              "      <td>0.153016</td>\n",
              "      <td>-0.841579</td>\n",
              "    </tr>\n",
              "    <tr>\n",
              "      <th>4</th>\n",
              "      <td>-0.052144</td>\n",
              "      <td>0.00</td>\n",
              "      <td>-0.581720</td>\n",
              "      <td>0.0</td>\n",
              "      <td>-0.457143</td>\n",
              "      <td>1.271680</td>\n",
              "      <td>-0.475025</td>\n",
              "      <td>0.924391</td>\n",
              "      <td>-0.10</td>\n",
              "      <td>-0.279070</td>\n",
              "      <td>-0.125000</td>\n",
              "      <td>0.261902</td>\n",
              "      <td>-0.602699</td>\n",
              "    </tr>\n",
              "  </tbody>\n",
              "</table>\n",
              "</div>\n",
              "      <button class=\"colab-df-convert\" onclick=\"convertToInteractive('df-42d9f5e8-4514-42b3-82db-45d9f885aef4')\"\n",
              "              title=\"Convert this dataframe to an interactive table.\"\n",
              "              style=\"display:none;\">\n",
              "        \n",
              "  <svg xmlns=\"http://www.w3.org/2000/svg\" height=\"24px\"viewBox=\"0 0 24 24\"\n",
              "       width=\"24px\">\n",
              "    <path d=\"M0 0h24v24H0V0z\" fill=\"none\"/>\n",
              "    <path d=\"M18.56 5.44l.94 2.06.94-2.06 2.06-.94-2.06-.94-.94-2.06-.94 2.06-2.06.94zm-11 1L8.5 8.5l.94-2.06 2.06-.94-2.06-.94L8.5 2.5l-.94 2.06-2.06.94zm10 10l.94 2.06.94-2.06 2.06-.94-2.06-.94-.94-2.06-.94 2.06-2.06.94z\"/><path d=\"M17.41 7.96l-1.37-1.37c-.4-.4-.92-.59-1.43-.59-.52 0-1.04.2-1.43.59L10.3 9.45l-7.72 7.72c-.78.78-.78 2.05 0 2.83L4 21.41c.39.39.9.59 1.41.59.51 0 1.02-.2 1.41-.59l7.78-7.78 2.81-2.81c.8-.78.8-2.07 0-2.86zM5.41 20L4 18.59l7.72-7.72 1.47 1.35L5.41 20z\"/>\n",
              "  </svg>\n",
              "      </button>\n",
              "      \n",
              "  <style>\n",
              "    .colab-df-container {\n",
              "      display:flex;\n",
              "      flex-wrap:wrap;\n",
              "      gap: 12px;\n",
              "    }\n",
              "\n",
              "    .colab-df-convert {\n",
              "      background-color: #E8F0FE;\n",
              "      border: none;\n",
              "      border-radius: 50%;\n",
              "      cursor: pointer;\n",
              "      display: none;\n",
              "      fill: #1967D2;\n",
              "      height: 32px;\n",
              "      padding: 0 0 0 0;\n",
              "      width: 32px;\n",
              "    }\n",
              "\n",
              "    .colab-df-convert:hover {\n",
              "      background-color: #E2EBFA;\n",
              "      box-shadow: 0px 1px 2px rgba(60, 64, 67, 0.3), 0px 1px 3px 1px rgba(60, 64, 67, 0.15);\n",
              "      fill: #174EA6;\n",
              "    }\n",
              "\n",
              "    [theme=dark] .colab-df-convert {\n",
              "      background-color: #3B4455;\n",
              "      fill: #D2E3FC;\n",
              "    }\n",
              "\n",
              "    [theme=dark] .colab-df-convert:hover {\n",
              "      background-color: #434B5C;\n",
              "      box-shadow: 0px 1px 3px 1px rgba(0, 0, 0, 0.15);\n",
              "      filter: drop-shadow(0px 1px 2px rgba(0, 0, 0, 0.3));\n",
              "      fill: #FFFFFF;\n",
              "    }\n",
              "  </style>\n",
              "\n",
              "      <script>\n",
              "        const buttonEl =\n",
              "          document.querySelector('#df-42d9f5e8-4514-42b3-82db-45d9f885aef4 button.colab-df-convert');\n",
              "        buttonEl.style.display =\n",
              "          google.colab.kernel.accessAllowed ? 'block' : 'none';\n",
              "\n",
              "        async function convertToInteractive(key) {\n",
              "          const element = document.querySelector('#df-42d9f5e8-4514-42b3-82db-45d9f885aef4');\n",
              "          const dataTable =\n",
              "            await google.colab.kernel.invokeFunction('convertToInteractive',\n",
              "                                                     [key], {});\n",
              "          if (!dataTable) return;\n",
              "\n",
              "          const docLinkHtml = 'Like what you see? Visit the ' +\n",
              "            '<a target=\"_blank\" href=https://colab.research.google.com/notebooks/data_table.ipynb>data table notebook</a>'\n",
              "            + ' to learn more about interactive tables.';\n",
              "          element.innerHTML = '';\n",
              "          dataTable['output_type'] = 'display_data';\n",
              "          await google.colab.output.renderOutput(dataTable, element);\n",
              "          const docLink = document.createElement('div');\n",
              "          docLink.innerHTML = docLinkHtml;\n",
              "          element.appendChild(docLink);\n",
              "        }\n",
              "      </script>\n",
              "    </div>\n",
              "  </div>\n",
              "  "
            ]
          },
          "metadata": {},
          "execution_count": 30
        }
      ]
    },
    {
      "cell_type": "markdown",
      "source": [
        "From here we have a tidy, normalised and clean DataFrame. However, we can do some further engineeering..."
      ],
      "metadata": {
        "id": "g9YirkXPRYQY"
      }
    },
    {
      "cell_type": "markdown",
      "source": [
        "### STEP THREE: Feature Engineering\n",
        "There are many things we can do here of course. For now we will limit it ourselves to check the distribution of the the target value (\"MV\") and checking for multicolinearity:"
      ],
      "metadata": {
        "id": "UhYhp47pRiPA"
      }
    },
    {
      "cell_type": "code",
      "source": [
        "ax = sns.displot(boston_Y)"
      ],
      "metadata": {
        "colab": {
          "base_uri": "https://localhost:8080/",
          "height": 369
        },
        "id": "pZlazxroR11-",
        "outputId": "1cb68191-d00e-42e6-c92a-fff0f091c284"
      },
      "execution_count": 31,
      "outputs": [
        {
          "output_type": "display_data",
          "data": {
            "text/plain": [
              "<Figure size 360x360 with 1 Axes>"
            ],
            "image/png": "[encoded data removed]"
          },
          "metadata": {
            "needs_background": "light"
          }
        }
      ]
    },
    {
      "cell_type": "code",
      "source": [
        "# create a correlation matrix rounding to one decimal point\n",
        "correlation_matrix = boston.corr().round(1)\n",
        "# print a correlation heat map\n",
        "sns.heatmap(data=correlation_matrix, annot=True)"
      ],
      "metadata": {
        "colab": {
          "base_uri": "https://localhost:8080/",
          "height": 318
        },
        "id": "gN83KGgSSDcB",
        "outputId": "8a37258a-6027-403c-cb5f-15b0e416dc14"
      },
      "execution_count": 32,
      "outputs": [
        {
          "output_type": "execute_result",
          "data": {
            "text/plain": [
              "<AxesSubplot:>"
            ]
          },
          "metadata": {},
          "execution_count": 32
        },
        {
          "output_type": "display_data",
          "data": {
            "text/plain": [
              "<Figure size 432x288 with 2 Axes>"
            ],
            "image/png": "[encoded data removed]"
          },
          "metadata": {
            "needs_background": "light"
          }
        }
      ]
    },
    {
      "cell_type": "markdown",
      "source": [
        "The normality of our target is clearly not perfect, but probably close enough for us not to worry too much. \n",
        "\n",
        "We also use it to see if any of our features have high positive or negative correlation. There are a few we might be concerned about but the most so is \"RAD\" and \"TAX\" at 0.9. We should probably drop one but which? We could take a data driven approach and compare their correlation with \"MV\". In this case \"RAD\" is -0.4 and \"TAX\" -0.5 - so \"TAX\" has the stronger effect and \"RAD\" should be dropped. We may also consider what the data means (theory driven). To save you going back to the description in the previous Notebook, \"RAD\" is defined as \"[the] index of accessibility to radial highways\" and \"TAX\" as \"full-value property-tax rate per \\$10,000\". So one relates to closeness to key roads and the other relates to property tax ... I would assume \"TAX\" to be more relevant in our task. Either way we arrive at the same conclusion and should drop \"RAD\"."
      ],
      "metadata": {
        "id": "n50jBG_vSIYD"
      }
    },
    {
      "cell_type": "code",
      "source": [
        "boston = boston.drop(['RAD'], axis=1)\n",
        "boston.head()"
      ],
      "metadata": {
        "colab": {
          "base_uri": "https://localhost:8080/",
          "height": 206
        },
        "id": "PxlTeddOSttr",
        "outputId": "e4f734a8-6078-4562-f145-e39c79430d0b"
      },
      "execution_count": 33,
      "outputs": [
        {
          "output_type": "execute_result",
          "data": {
            "text/plain": [
              "       CRIM    ZN     INDUS  CHAS       NOX        RM       AGE       DIS  \\\n",
              "0 -0.069593  1.44 -0.571650   0.0  0.000000  0.496612 -0.250765  0.285777   \n",
              "1 -0.063755  0.00 -0.202943   0.0 -0.394286  0.287940  0.028542  0.569789   \n",
              "2 -0.063760  0.00 -0.202943   0.0 -0.394286  1.323171 -0.334353  0.569789   \n",
              "3 -0.062347  0.00 -0.581720   0.0 -0.457143  1.069783 -0.646279  0.924391   \n",
              "4 -0.052144  0.00 -0.581720   0.0 -0.457143  1.271680 -0.475025  0.924391   \n",
              "\n",
              "        TAX   PTRATIO         B     LSTAT  \n",
              "0 -0.087855 -1.339286  0.261902 -0.637681  \n",
              "1 -0.227390 -0.446429  0.261902 -0.221889  \n",
              "2 -0.227390 -0.446429  0.066675 -0.732634  \n",
              "3 -0.279070 -0.125000  0.153016 -0.841579  \n",
              "4 -0.279070 -0.125000  0.261902 -0.602699  "
            ],
            "text/html": [
              "\n",
              "  <div id=\"df-f29d724e-9955-417f-bbfd-faa72204915c\">\n",
              "    <div class=\"colab-df-container\">\n",
              "      <div>\n",
              "<style scoped>\n",
              "    .dataframe tbody tr th:only-of-type {\n",
              "        vertical-align: middle;\n",
              "    }\n",
              "\n",
              "    .dataframe tbody tr th {\n",
              "        vertical-align: top;\n",
              "    }\n",
              "\n",
              "    .dataframe thead th {\n",
              "        text-align: right;\n",
              "    }\n",
              "</style>\n",
              "<table border=\"1\" class=\"dataframe\">\n",
              "  <thead>\n",
              "    <tr style=\"text-align: right;\">\n",
              "      <th></th>\n",
              "      <th>CRIM</th>\n",
              "      <th>ZN</th>\n",
              "      <th>INDUS</th>\n",
              "      <th>CHAS</th>\n",
              "      <th>NOX</th>\n",
              "      <th>RM</th>\n",
              "      <th>AGE</th>\n",
              "      <th>DIS</th>\n",
              "      <th>TAX</th>\n",
              "      <th>PTRATIO</th>\n",
              "      <th>B</th>\n",
              "      <th>LSTAT</th>\n",
              "    </tr>\n",
              "  </thead>\n",
              "  <tbody>\n",
              "    <tr>\n",
              "      <th>0</th>\n",
              "      <td>-0.069593</td>\n",
              "      <td>1.44</td>\n",
              "      <td>-0.571650</td>\n",
              "      <td>0.0</td>\n",
              "      <td>0.000000</td>\n",
              "      <td>0.496612</td>\n",
              "      <td>-0.250765</td>\n",
              "      <td>0.285777</td>\n",
              "      <td>-0.087855</td>\n",
              "      <td>-1.339286</td>\n",
              "      <td>0.261902</td>\n",
              "      <td>-0.637681</td>\n",
              "    </tr>\n",
              "    <tr>\n",
              "      <th>1</th>\n",
              "      <td>-0.063755</td>\n",
              "      <td>0.00</td>\n",
              "      <td>-0.202943</td>\n",
              "      <td>0.0</td>\n",
              "      <td>-0.394286</td>\n",
              "      <td>0.287940</td>\n",
              "      <td>0.028542</td>\n",
              "      <td>0.569789</td>\n",
              "      <td>-0.227390</td>\n",
              "      <td>-0.446429</td>\n",
              "      <td>0.261902</td>\n",
              "      <td>-0.221889</td>\n",
              "    </tr>\n",
              "    <tr>\n",
              "      <th>2</th>\n",
              "      <td>-0.063760</td>\n",
              "      <td>0.00</td>\n",
              "      <td>-0.202943</td>\n",
              "      <td>0.0</td>\n",
              "      <td>-0.394286</td>\n",
              "      <td>1.323171</td>\n",
              "      <td>-0.334353</td>\n",
              "      <td>0.569789</td>\n",
              "      <td>-0.227390</td>\n",
              "      <td>-0.446429</td>\n",
              "      <td>0.066675</td>\n",
              "      <td>-0.732634</td>\n",
              "    </tr>\n",
              "    <tr>\n",
              "      <th>3</th>\n",
              "      <td>-0.062347</td>\n",
              "      <td>0.00</td>\n",
              "      <td>-0.581720</td>\n",
              "      <td>0.0</td>\n",
              "      <td>-0.457143</td>\n",
              "      <td>1.069783</td>\n",
              "      <td>-0.646279</td>\n",
              "      <td>0.924391</td>\n",
              "      <td>-0.279070</td>\n",
              "      <td>-0.125000</td>\n",
              "      <td>0.153016</td>\n",
              "      <td>-0.841579</td>\n",
              "    </tr>\n",
              "    <tr>\n",
              "      <th>4</th>\n",
              "      <td>-0.052144</td>\n",
              "      <td>0.00</td>\n",
              "      <td>-0.581720</td>\n",
              "      <td>0.0</td>\n",
              "      <td>-0.457143</td>\n",
              "      <td>1.271680</td>\n",
              "      <td>-0.475025</td>\n",
              "      <td>0.924391</td>\n",
              "      <td>-0.279070</td>\n",
              "      <td>-0.125000</td>\n",
              "      <td>0.261902</td>\n",
              "      <td>-0.602699</td>\n",
              "    </tr>\n",
              "  </tbody>\n",
              "</table>\n",
              "</div>\n",
              "      <button class=\"colab-df-convert\" onclick=\"convertToInteractive('df-f29d724e-9955-417f-bbfd-faa72204915c')\"\n",
              "              title=\"Convert this dataframe to an interactive table.\"\n",
              "              style=\"display:none;\">\n",
              "        \n",
              "  <svg xmlns=\"http://www.w3.org/2000/svg\" height=\"24px\"viewBox=\"0 0 24 24\"\n",
              "       width=\"24px\">\n",
              "    <path d=\"M0 0h24v24H0V0z\" fill=\"none\"/>\n",
              "    <path d=\"M18.56 5.44l.94 2.06.94-2.06 2.06-.94-2.06-.94-.94-2.06-.94 2.06-2.06.94zm-11 1L8.5 8.5l.94-2.06 2.06-.94-2.06-.94L8.5 2.5l-.94 2.06-2.06.94zm10 10l.94 2.06.94-2.06 2.06-.94-2.06-.94-.94-2.06-.94 2.06-2.06.94z\"/><path d=\"M17.41 7.96l-1.37-1.37c-.4-.4-.92-.59-1.43-.59-.52 0-1.04.2-1.43.59L10.3 9.45l-7.72 7.72c-.78.78-.78 2.05 0 2.83L4 21.41c.39.39.9.59 1.41.59.51 0 1.02-.2 1.41-.59l7.78-7.78 2.81-2.81c.8-.78.8-2.07 0-2.86zM5.41 20L4 18.59l7.72-7.72 1.47 1.35L5.41 20z\"/>\n",
              "  </svg>\n",
              "      </button>\n",
              "      \n",
              "  <style>\n",
              "    .colab-df-container {\n",
              "      display:flex;\n",
              "      flex-wrap:wrap;\n",
              "      gap: 12px;\n",
              "    }\n",
              "\n",
              "    .colab-df-convert {\n",
              "      background-color: #E8F0FE;\n",
              "      border: none;\n",
              "      border-radius: 50%;\n",
              "      cursor: pointer;\n",
              "      display: none;\n",
              "      fill: #1967D2;\n",
              "      height: 32px;\n",
              "      padding: 0 0 0 0;\n",
              "      width: 32px;\n",
              "    }\n",
              "\n",
              "    .colab-df-convert:hover {\n",
              "      background-color: #E2EBFA;\n",
              "      box-shadow: 0px 1px 2px rgba(60, 64, 67, 0.3), 0px 1px 3px 1px rgba(60, 64, 67, 0.15);\n",
              "      fill: #174EA6;\n",
              "    }\n",
              "\n",
              "    [theme=dark] .colab-df-convert {\n",
              "      background-color: #3B4455;\n",
              "      fill: #D2E3FC;\n",
              "    }\n",
              "\n",
              "    [theme=dark] .colab-df-convert:hover {\n",
              "      background-color: #434B5C;\n",
              "      box-shadow: 0px 1px 3px 1px rgba(0, 0, 0, 0.15);\n",
              "      filter: drop-shadow(0px 1px 2px rgba(0, 0, 0, 0.3));\n",
              "      fill: #FFFFFF;\n",
              "    }\n",
              "  </style>\n",
              "\n",
              "      <script>\n",
              "        const buttonEl =\n",
              "          document.querySelector('#df-f29d724e-9955-417f-bbfd-faa72204915c button.colab-df-convert');\n",
              "        buttonEl.style.display =\n",
              "          google.colab.kernel.accessAllowed ? 'block' : 'none';\n",
              "\n",
              "        async function convertToInteractive(key) {\n",
              "          const element = document.querySelector('#df-f29d724e-9955-417f-bbfd-faa72204915c');\n",
              "          const dataTable =\n",
              "            await google.colab.kernel.invokeFunction('convertToInteractive',\n",
              "                                                     [key], {});\n",
              "          if (!dataTable) return;\n",
              "\n",
              "          const docLinkHtml = 'Like what you see? Visit the ' +\n",
              "            '<a target=\"_blank\" href=https://colab.research.google.com/notebooks/data_table.ipynb>data table notebook</a>'\n",
              "            + ' to learn more about interactive tables.';\n",
              "          element.innerHTML = '';\n",
              "          dataTable['output_type'] = 'display_data';\n",
              "          await google.colab.output.renderOutput(dataTable, element);\n",
              "          const docLink = document.createElement('div');\n",
              "          docLink.innerHTML = docLinkHtml;\n",
              "          element.appendChild(docLink);\n",
              "        }\n",
              "      </script>\n",
              "    </div>\n",
              "  </div>\n",
              "  "
            ]
          },
          "metadata": {},
          "execution_count": 33
        }
      ]
    },
    {
      "cell_type": "markdown",
      "source": [
        "For this quick example this will be enough ... but obviously feature engineering is a key process so you would spend more time on this, and also you will never normally get a dataset this clean!"
      ],
      "metadata": {
        "id": "TTa1L0ViS04f"
      }
    },
    {
      "cell_type": "markdown",
      "source": [
        "### STEP FOUR: Separate the target value\n",
        "Nothing to do here as our target value is already separate."
      ],
      "metadata": {
        "id": "r4e40td-TABw"
      }
    },
    {
      "cell_type": "markdown",
      "source": [
        "### STEP FIVE: Split the data into training and test sets\n",
        "We will use an 80/20 split as we did before:"
      ],
      "metadata": {
        "id": "n4Y3RmKYTM94"
      }
    },
    {
      "cell_type": "code",
      "source": [
        "# split data into training and test\n",
        "from sklearn.model_selection  import train_test_split\n",
        "X_train, X_test, Y_train, Y_test = train_test_split(boston, boston_Y, test_size = 0.2)\n",
        "\n",
        "# print the shapes to check everything is OK\n",
        "print(X_train.shape)\n",
        "print(X_test.shape)\n",
        "print(Y_train.shape)\n",
        "print(Y_test.shape)"
      ],
      "metadata": {
        "colab": {
          "base_uri": "https://localhost:8080/"
        },
        "id": "36hCkwPOTXIQ",
        "outputId": "7c3657a1-4a6e-4563-abc4-46113422fc85"
      },
      "execution_count": 34,
      "outputs": [
        {
          "output_type": "stream",
          "name": "stdout",
          "text": [
            "(404, 12)\n",
            "(102, 12)\n",
            "(404,)\n",
            "(102,)\n"
          ]
        }
      ]
    },
    {
      "cell_type": "markdown",
      "source": [
        "### STEP SIX: Select the algorithms\n",
        "In keeping with the approach we previously used, we will select the following algorithms:\n",
        "\n",
        "\n",
        "1.   Linear Regression\n",
        "2.   Lasso Regression ($L1$ Regularisation)\n",
        "2.   Ridge Regression ($L2$ Regularisation)\n",
        "2.   ElasticNet (Both $L1$ and $L2$ Regularisation)\n",
        "\n"
      ],
      "metadata": {
        "id": "4mtk6U4aTiUH"
      }
    },
    {
      "cell_type": "markdown",
      "source": [
        "### STEP SEVEN: Optimise hyperparameters\n",
        "The following hyperparameters should be optimised:\n",
        "1.   Linear Regression - no hyperparameters\n",
        "2.   Lasso Regression - $\\alpha$ (alpha)\n",
        "2.   Ridge Regression - $\\alpha$ (alpha)\n",
        "2.   ElasticNet - $\\alpha$ (alpha) and $L1$ ratio (how much of the penalty should be $L1$ and how much $L2$)\n",
        "\n",
        "We will discuss hyperparameter optimisation strategies in later slides. For now, just use the following code:"
      ],
      "metadata": {
        "id": "OoLryN73UMJg"
      }
    },
    {
      "cell_type": "markdown",
      "source": [
        "#### Lasso Regression"
      ],
      "metadata": {
        "id": "H60-OJt3VHgw"
      }
    },
    {
      "cell_type": "code",
      "source": [
        "from sklearn.linear_model import Lasso\n",
        "\n",
        "from sklearn.model_selection import GridSearchCV\n",
        "\n",
        "tuned_parameters = [{'alpha': [0.25, 0.5, 0.75]}] # test the listed alpha values\n",
        "\n",
        "scores = ['neg_root_mean_squared_error'] # test for RMSE\n",
        "\n",
        "for score in scores:\n",
        "    print(\"# Tuning hyperparameters for %s\" % score)\n",
        "    print(\"\\n\")\n",
        "    clf = GridSearchCV(Lasso(), tuned_parameters, cv=5,\n",
        "                       scoring= score)\n",
        "    clf.fit(X_train, Y_train)\n",
        "    print(\"Best parameters set found on the training set:\")\n",
        "    print(clf.best_params_)\n",
        "    print(\"\\n\")"
      ],
      "metadata": {
        "colab": {
          "base_uri": "https://localhost:8080/"
        },
        "id": "68wFpqhpVKLW",
        "outputId": "171ade64-e06d-4637-9622-e955c007c909"
      },
      "execution_count": 35,
      "outputs": [
        {
          "output_type": "stream",
          "name": "stdout",
          "text": [
            "# Tuning hyperparameters for neg_root_mean_squared_error\n",
            "\n",
            "\n",
            "Best parameters set found on the training set:\n",
            "{'alpha': 0.25}\n",
            "\n",
            "\n"
          ]
        }
      ]
    },
    {
      "cell_type": "markdown",
      "source": [
        "#### Ridge Regression"
      ],
      "metadata": {
        "id": "ByX7ZtZMV5j-"
      }
    },
    {
      "cell_type": "code",
      "source": [
        "from sklearn.linear_model import Ridge\n",
        "\n",
        "tuned_parameters = [{'alpha': [0.25, 0.5, 0.75]}] # test the listed alpha values\n",
        "\n",
        "scores = ['neg_root_mean_squared_error'] # test for RMSE\n",
        "\n",
        "for score in scores:\n",
        "    print(\"# Tuning hyperparameters for %s\" % score)\n",
        "    print(\"\\n\")\n",
        "    clf = GridSearchCV(Ridge(), tuned_parameters, cv=5,\n",
        "                       scoring= score)\n",
        "    clf.fit(X_train, Y_train)\n",
        "    print(\"Best parameters set found on the training set:\")\n",
        "    print(clf.best_params_)\n",
        "    print(\"\\n\")"
      ],
      "metadata": {
        "colab": {
          "base_uri": "https://localhost:8080/"
        },
        "id": "6w_6uc03UCLn",
        "outputId": "0f841d13-4bee-4c98-b49c-a85b44f266e8"
      },
      "execution_count": 36,
      "outputs": [
        {
          "output_type": "stream",
          "name": "stdout",
          "text": [
            "# Tuning hyperparameters for neg_root_mean_squared_error\n",
            "\n",
            "\n",
            "Best parameters set found on the training set:\n",
            "{'alpha': 0.75}\n",
            "\n",
            "\n"
          ]
        }
      ]
    },
    {
      "cell_type": "markdown",
      "source": [
        "#### ElasticNet"
      ],
      "metadata": {
        "id": "cnIq5HEnWGCe"
      }
    },
    {
      "cell_type": "code",
      "source": [
        "from sklearn.linear_model import ElasticNet\n",
        "\n",
        "tuned_parameters = [{'alpha': [0.25, 0.5, 0.75], # test the listed alpha values\n",
        "                     'l1_ratio': [0.25, 0.5, 0.75]}] # test the listed L1 ratio values\n",
        "\n",
        "scores = ['neg_root_mean_squared_error'] # test for RMSE\n",
        "\n",
        "for score in scores:\n",
        "    print(\"# Tuning hyperparameters for %s\" % score)\n",
        "    print(\"\\n\")\n",
        "    clf = GridSearchCV(ElasticNet(), tuned_parameters, cv=5,\n",
        "                       scoring= score)\n",
        "    clf.fit(X_train, Y_train)\n",
        "    print(\"Best parameters set found on the training set:\")\n",
        "    print(clf.best_params_)\n",
        "    print(\"\\n\")"
      ],
      "metadata": {
        "colab": {
          "base_uri": "https://localhost:8080/"
        },
        "id": "hk1Uvv_0WH98",
        "outputId": "4a65c7ab-ed33-489e-b087-20b938096146"
      },
      "execution_count": 37,
      "outputs": [
        {
          "output_type": "stream",
          "name": "stdout",
          "text": [
            "# Tuning hyperparameters for neg_root_mean_squared_error\n",
            "\n",
            "\n",
            "Best parameters set found on the training set:\n",
            "{'alpha': 0.25, 'l1_ratio': 0.75}\n",
            "\n",
            "\n"
          ]
        }
      ]
    },
    {
      "cell_type": "markdown",
      "source": [
        "The final list is:\n",
        "1.   Linear Regression - still no hyperparameters\n",
        "2.   Lasso Regression - $\\alpha = 0.25$\n",
        "2.   Ridge Regression - $\\alpha = 0.75$\n",
        "2.   ElasticNet - $\\alpha = 0.25$ and $L1$ ratio $= 0.75$\n",
        "\n",
        "_Note, as we will disucss it is possible you may have different results!_"
      ],
      "metadata": {
        "id": "VesYfYiVWd6p"
      }
    },
    {
      "cell_type": "markdown",
      "source": [
        "### STEP EIGHT: Run the algorithms/build the models\n",
        "Let's see who wins!"
      ],
      "metadata": {
        "id": "GbUlSY1TXMPF"
      }
    },
    {
      "cell_type": "code",
      "source": [
        "from sklearn.linear_model import LinearRegression\n",
        "\n",
        "# fit the LR model to the training data\n",
        "lin_model = LinearRegression()\n",
        "\n",
        "# fit the Lasso model\n",
        "l1_model = Lasso(alpha=0.25)\n",
        "\n",
        "# fit the Ridge model\n",
        "l2_model = Ridge(alpha=0.75)\n",
        "\n",
        "# fit the ElasticNet model\n",
        "enet = ElasticNet(alpha=0.25, l1_ratio=0.75)\n",
        "\n",
        "# make a list of models to iterate (loop) through\n",
        "models = [lin_model, l1_model, l2_model, enet]\n",
        "\n",
        "for model in models:\n",
        "  # fit model\n",
        "  fitted_model = model.fit(X_train, Y_train)\n",
        "\n",
        "  # predict every Y value in the dataset\n",
        "  boston_predict = fitted_model.predict(X_train)\n",
        "\n",
        "  # calculate RMSE (root mean square error) and R^2 (predictive power)\n",
        "  from sklearn.metrics import mean_squared_error, r2_score\n",
        "  rmse = (np.sqrt(mean_squared_error(Y_train, boston_predict)))\n",
        "  r2 = r2_score(Y_train, boston_predict)\n",
        "\n",
        "  # print the performance metrics\n",
        "  print(f' {model} - Model performance')\n",
        "  print(\"--------------------------------------\")\n",
        "  print(f'RMSE is {rmse}')\n",
        "  print(f'R2 score is {r2}')\n",
        "  print('\\n')"
      ],
      "metadata": {
        "colab": {
          "base_uri": "https://localhost:8080/"
        },
        "id": "XkwFFMgKXcHW",
        "outputId": "75b4a619-4aa9-463b-bfe1-86f836406b11"
      },
      "execution_count": 38,
      "outputs": [
        {
          "output_type": "stream",
          "name": "stdout",
          "text": [
            " LinearRegression() - Model performance\n",
            "--------------------------------------\n",
            "RMSE is 4.8801869616108915\n",
            "R2 score is 0.717419679133169\n",
            "\n",
            "\n",
            " Lasso(alpha=0.25) - Model performance\n",
            "--------------------------------------\n",
            "RMSE is 5.113227048295257\n",
            "R2 score is 0.6897876036644471\n",
            "\n",
            "\n",
            " Ridge(alpha=0.75) - Model performance\n",
            "--------------------------------------\n",
            "RMSE is 4.8803715371578615\n",
            "R2 score is 0.7173983035571794\n",
            "\n",
            "\n",
            " ElasticNet(alpha=0.25, l1_ratio=0.75) - Model performance\n",
            "--------------------------------------\n",
            "RMSE is 5.120224209916285\n",
            "R2 score is 0.6889380065589926\n",
            "\n",
            "\n"
          ]
        }
      ]
    },
    {
      "cell_type": "markdown",
      "source": [
        "### STEP NINE: Select the best model\n",
        "Our results suggest Lasso and ElasticNet show weaker overall performance. There is only a small difference between vanilla Linear Regression and Ridge Regression, with the vanilla model doing slightly better? So, which should we choose?\n",
        "\n",
        "Although it performs slightly worse I would pick Ridge. The difference on both metrics is very, very small but the $L2$ regularisation penalty means we should be better protected against overfitting. 0.0001 less $R^2$ seems like a very cheap price to pay for this extra protection. "
      ],
      "metadata": {
        "id": "emVmEogJb09L"
      }
    },
    {
      "cell_type": "markdown",
      "source": [
        "### STEP TEN: Predict the test data and evaluate performance\n",
        "Let's put our model to work!"
      ],
      "metadata": {
        "id": "EjWjxfCtdE6G"
      }
    },
    {
      "cell_type": "code",
      "source": [
        "# fit the model to the training data\n",
        "l2_model_fit = l2_model.fit(X_train, Y_train)\n",
        "\n",
        "# predict the data\n",
        "boston_predict = l2_model_fit.predict(X_test)\n",
        "\n",
        "# calculate RMSE (root mean square error) and R^2 (predictive power)\n",
        "rmse = (np.sqrt(mean_squared_error(Y_test, boston_predict)))\n",
        "r2 = r2_score(Y_test, boston_predict)\n",
        "\n",
        "# print the performance metrics\n",
        "print(\"Model performance\")\n",
        "print(\"--------------------------------------\")\n",
        "print('RMSE is {}'.format(rmse))\n",
        "print('R2 score is {}'.format(r2))\n",
        "print(\"\\n\")"
      ],
      "metadata": {
        "colab": {
          "base_uri": "https://localhost:8080/"
        },
        "id": "k1ZMUL_DdNL0",
        "outputId": "79a3381d-dd9c-407a-d2ca-4c183d519454"
      },
      "execution_count": 39,
      "outputs": [
        {
          "output_type": "stream",
          "name": "stdout",
          "text": [
            "Model performance\n",
            "--------------------------------------\n",
            "RMSE is 4.417508147706427\n",
            "R2 score is 0.7702910323063503\n",
            "\n",
            "\n"
          ]
        }
      ]
    },
    {
      "cell_type": "markdown",
      "source": [
        "We can see some drop in performance from training (but this is to be expected to some extent as the model hasn't seen this data). If we consider 4.4 RMSE and/or 77% $R^2$ to be too low, we may go back and start the process again with different algorithms, but in this case we will consider it acceptable:\n",
        "\n"
      ],
      "metadata": {
        "id": "FWQvuZrLIohs"
      }
    },
    {
      "cell_type": "markdown",
      "source": [
        "#### STEP ELEVEN: Party time\n",
        "![](https://drive.google.com/uc?export=view&id=10wW-fH93pxZEo78Ve2wviJmZEitqjcWj)"
      ],
      "metadata": {
        "id": "dgR3xTNJfLiL"
      }
    }
  ]
}